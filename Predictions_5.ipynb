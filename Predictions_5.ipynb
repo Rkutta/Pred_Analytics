{
 "cells": [
  {
   "cell_type": "code",
   "execution_count": 1,
   "metadata": {},
   "outputs": [],
   "source": [
    "import pandas as pd\n",
    "import numpy as np\n",
    "from sklearn.tree import DecisionTreeClassifier\n",
    "from graphviz import Source\n",
    "from sklearn.tree import export_graphviz\n",
    "from sklearn.datasets import load_iris"
   ]
  },
  {
   "cell_type": "code",
   "execution_count": 2,
   "metadata": {},
   "outputs": [],
   "source": [
    "train_3 = pd.read_csv('C:/Users/edher/Desktop/GC_Fall_2020/Data Mining/Pred Analytics/train3.csv')\n",
    "train_5 = pd.read_csv('C:/Users/edher/Desktop/GC_Fall_2020/Data Mining/Pred Analytics/train5.csv')\n",
    "train_46 = pd.read_csv('C:/Users/edher/Desktop/GC_Fall_2020/Data Mining/Pred Analytics/train6.csv')\n",
    "train_78 = pd.read_csv('C:/Users/edher/Desktop/GC_Fall_2020/Data Mining/Pred Analytics/train8_7.csv')\n",
    "train_11_10 = pd.read_csv('C:/Users/edher/Desktop/GC_Fall_2020/Data Mining/Pred Analytics/train11_10.csv')\n",
    "pred_3 = pd.read_csv('C:/Users/edher/Desktop/GC_Fall_2020/Data Mining/Pred Analytics/pred3.csv')\n",
    "pred_5 = pd.read_csv('C:/Users/edher/Desktop/GC_Fall_2020/Data Mining/Pred Analytics/pred5.csv')\n",
    "pred_46 = pd.read_csv('C:/Users/edher/Desktop/GC_Fall_2020/Data Mining/Pred Analytics/pred6.csv')\n",
    "pred_78 = pd.read_csv('C:/Users/edher/Desktop/GC_Fall_2020/Data Mining/Pred Analytics/pred8_7.csv')\n",
    "pred_11_10 = pd.read_csv('C:/Users/edher/Desktop/GC_Fall_2020/Data Mining/Pred Analytics/pred11_10.csv')"
   ]
  },
  {
   "cell_type": "code",
   "execution_count": 3,
   "metadata": {},
   "outputs": [],
   "source": [
    "train_3.dropna(axis=1, inplace=True)\n",
    "train_5.dropna(axis=1, inplace=True)\n",
    "train_46.dropna(axis=1, inplace=True)\n",
    "train_78.dropna(axis=1, inplace=True)\n",
    "train_11_10.dropna(axis=1, inplace=True)\n",
    "pred_3.dropna(axis=1, inplace=True)\n",
    "pred_5.dropna(axis=1, inplace=True)\n",
    "pred_46.dropna(axis=1, inplace=True)\n",
    "pred_78.dropna(axis=1, inplace=True)\n",
    "pred_11_10.dropna(axis=1, inplace=True)"
   ]
  },
  {
   "cell_type": "code",
   "execution_count": 4,
   "metadata": {},
   "outputs": [],
   "source": [
    "X3 = train_3.iloc[:,0:-1]\n",
    "X5 = train_5.iloc[:,0:-1]\n",
    "X46 = train_46.iloc[:,0:-1]\n",
    "X78 = train_78.iloc[:,0:-1]\n",
    "X1110 = train_11_10.iloc[:,0:-1]\n",
    "Y3 = train_3.iloc[:,-1]\n",
    "Y5 = train_5.iloc[:,-1]\n",
    "Y46 = train_46.iloc[:,-1]\n",
    "Y78 = train_78.iloc[:,-1]\n",
    "Y1110 = train_11_10.iloc[:,-1]"
   ]
  },
  {
   "cell_type": "code",
   "execution_count": 5,
   "metadata": {},
   "outputs": [],
   "source": [
    "tree3 = DecisionTreeClassifier(criterion='entropy', random_state=42)\n",
    "tree5 = DecisionTreeClassifier(criterion='entropy', random_state=42)\n",
    "tree46 = DecisionTreeClassifier(criterion='entropy', random_state=42)\n",
    "tree78 = DecisionTreeClassifier(criterion='entropy', random_state=42)\n",
    "tree1110 = DecisionTreeClassifier(criterion='entropy', random_state=42)"
   ]
  },
  {
   "cell_type": "code",
   "execution_count": 6,
   "metadata": {},
   "outputs": [
    {
     "data": {
      "text/plain": [
       "DecisionTreeClassifier(criterion='entropy', random_state=42)"
      ]
     },
     "execution_count": 6,
     "metadata": {},
     "output_type": "execute_result"
    }
   ],
   "source": [
    "tree3.fit(X3, Y3)\n",
    "tree5.fit(X5, Y5)\n",
    "tree46.fit(X46, Y46)\n",
    "tree78.fit(X78, Y78)\n",
    "tree1110.fit(X1110, Y1110)"
   ]
  },
  {
   "cell_type": "code",
   "execution_count": 7,
   "metadata": {},
   "outputs": [
    {
     "data": {
      "text/plain": [
       "0    0\n",
       "1    0\n",
       "Name: Actual ER.1, dtype: int64"
      ]
     },
     "execution_count": 7,
     "metadata": {},
     "output_type": "execute_result"
    }
   ],
   "source": [
    "Y3"
   ]
  },
  {
   "cell_type": "code",
   "execution_count": 8,
   "metadata": {},
   "outputs": [],
   "source": [
    "export_graphviz(tree3, out_file=\"tree3.dot\",feature_names=train_3.columns[0:-1], class_names=['0'], rounded=True, filled=True)"
   ]
  },
  {
   "cell_type": "code",
   "execution_count": 9,
   "metadata": {},
   "outputs": [
    {
     "data": {
      "text/plain": [
       "0    18\n",
       "1    18\n",
       "2     0\n",
       "3    18\n",
       "Name: ER.7, dtype: int64"
      ]
     },
     "execution_count": 9,
     "metadata": {},
     "output_type": "execute_result"
    }
   ],
   "source": [
    "Y5"
   ]
  },
  {
   "cell_type": "code",
   "execution_count": 10,
   "metadata": {},
   "outputs": [],
   "source": [
    "export_graphviz(tree5, out_file=\"tree5.dot\",feature_names=train_5.columns[0:-1], class_names=['0','18'], rounded=True, filled=True)"
   ]
  },
  {
   "cell_type": "code",
   "execution_count": 11,
   "metadata": {},
   "outputs": [
    {
     "data": {
      "text/plain": [
       "0     8\n",
       "1    15\n",
       "2     0\n",
       "3    18\n",
       "4    12\n",
       "Name: ER.5, dtype: int64"
      ]
     },
     "execution_count": 11,
     "metadata": {},
     "output_type": "execute_result"
    }
   ],
   "source": [
    "Y46"
   ]
  },
  {
   "cell_type": "code",
   "execution_count": 12,
   "metadata": {},
   "outputs": [],
   "source": [
    "export_graphviz(tree46, out_file=\"tree6.dot\",feature_names=train_46.columns[0:-1], class_names=['0','8','12','15','18'], rounded=True, filled=True)"
   ]
  },
  {
   "cell_type": "code",
   "execution_count": 13,
   "metadata": {},
   "outputs": [
    {
     "data": {
      "text/plain": [
       "0    11\n",
       "1    15\n",
       "2    11\n",
       "3    17\n",
       "4    13\n",
       "5    18\n",
       "Name: ER.3, dtype: int64"
      ]
     },
     "execution_count": 13,
     "metadata": {},
     "output_type": "execute_result"
    }
   ],
   "source": [
    "Y78"
   ]
  },
  {
   "cell_type": "code",
   "execution_count": 14,
   "metadata": {},
   "outputs": [],
   "source": [
    "export_graphviz(tree78, out_file=\"tree78.dot\",feature_names=train_78.columns[0:-1], class_names=['11','13','15','17','18'], rounded=True, filled=True)"
   ]
  },
  {
   "cell_type": "code",
   "execution_count": 15,
   "metadata": {},
   "outputs": [
    {
     "data": {
      "text/plain": [
       "0     4\n",
       "1     0\n",
       "2     0\n",
       "3     6\n",
       "4     1\n",
       "5     5\n",
       "6     4\n",
       "7    14\n",
       "Name: ER, dtype: int64"
      ]
     },
     "execution_count": 15,
     "metadata": {},
     "output_type": "execute_result"
    }
   ],
   "source": [
    "Y1110"
   ]
  },
  {
   "cell_type": "code",
   "execution_count": 16,
   "metadata": {},
   "outputs": [],
   "source": [
    "export_graphviz(tree1110, out_file=\"tree1110.dot\",feature_names=train_11_10.columns[0:-1], class_names=['0','1','4','5','6','14'], rounded=True, filled=True)"
   ]
  },
  {
   "cell_type": "code",
   "execution_count": 17,
   "metadata": {},
   "outputs": [
    {
     "data": {
      "image/svg+xml": [
       "<?xml version=\"1.0\" encoding=\"UTF-8\" standalone=\"no\"?>\r\n",
       "<!DOCTYPE svg PUBLIC \"-//W3C//DTD SVG 1.1//EN\"\r\n",
       " \"http://www.w3.org/Graphics/SVG/1.1/DTD/svg11.dtd\">\r\n",
       "<!-- Generated by graphviz version 2.44.1 (20200629.0846)\r\n",
       " -->\r\n",
       "<!-- Title: Tree Pages: 1 -->\r\n",
       "<svg width=\"108pt\" height=\"61pt\"\r\n",
       " viewBox=\"0.00 0.00 108.00 61.00\" xmlns=\"http://www.w3.org/2000/svg\" xmlns:xlink=\"http://www.w3.org/1999/xlink\">\r\n",
       "<g id=\"graph0\" class=\"graph\" transform=\"scale(1 1) rotate(0) translate(4 57)\">\r\n",
       "<title>Tree</title>\r\n",
       "<polygon fill=\"white\" stroke=\"transparent\" points=\"-4,4 -4,-57 104,-57 104,4 -4,4\"/>\r\n",
       "<!-- 0 -->\r\n",
       "<g id=\"node1\" class=\"node\">\r\n",
       "<title>0</title>\r\n",
       "<path fill=\"#ffffff\" stroke=\"black\" d=\"M88,-53C88,-53 12,-53 12,-53 6,-53 0,-47 0,-41 0,-41 0,-12 0,-12 0,-6 6,0 12,0 12,0 88,0 88,0 94,0 100,-6 100,-12 100,-12 100,-41 100,-41 100,-47 94,-53 88,-53\"/>\r\n",
       "<text text-anchor=\"middle\" x=\"50\" y=\"-37.8\" font-family=\"Helvetica,sans-Serif\" font-size=\"14.00\">entropy = 0.0</text>\r\n",
       "<text text-anchor=\"middle\" x=\"50\" y=\"-22.8\" font-family=\"Helvetica,sans-Serif\" font-size=\"14.00\">samples = 2</text>\r\n",
       "<text text-anchor=\"middle\" x=\"50\" y=\"-7.8\" font-family=\"Helvetica,sans-Serif\" font-size=\"14.00\">value = 2.0</text>\r\n",
       "</g>\r\n",
       "</g>\r\n",
       "</svg>\r\n"
      ],
      "text/plain": [
       "<graphviz.files.Source at 0x19c3a88ba20>"
      ]
     },
     "execution_count": 17,
     "metadata": {},
     "output_type": "execute_result"
    }
   ],
   "source": [
    "Source.from_file('tree3.dot')"
   ]
  },
  {
   "cell_type": "code",
   "execution_count": 18,
   "metadata": {},
   "outputs": [
    {
     "data": {
      "image/svg+xml": [
       "<?xml version=\"1.0\" encoding=\"UTF-8\" standalone=\"no\"?>\r\n",
       "<!DOCTYPE svg PUBLIC \"-//W3C//DTD SVG 1.1//EN\"\r\n",
       " \"http://www.w3.org/Graphics/SVG/1.1/DTD/svg11.dtd\">\r\n",
       "<!-- Generated by graphviz version 2.44.1 (20200629.0846)\r\n",
       " -->\r\n",
       "<!-- Title: Tree Pages: 1 -->\r\n",
       "<svg width=\"226pt\" height=\"195pt\"\r\n",
       " viewBox=\"0.00 0.00 226.00 195.00\" xmlns=\"http://www.w3.org/2000/svg\" xmlns:xlink=\"http://www.w3.org/1999/xlink\">\r\n",
       "<g id=\"graph0\" class=\"graph\" transform=\"scale(1 1) rotate(0) translate(4 191)\">\r\n",
       "<title>Tree</title>\r\n",
       "<polygon fill=\"white\" stroke=\"transparent\" points=\"-4,4 -4,-191 222,-191 222,4 -4,4\"/>\r\n",
       "<!-- 0 -->\r\n",
       "<g id=\"node1\" class=\"node\">\r\n",
       "<title>0</title>\r\n",
       "<path fill=\"#7bbeee\" stroke=\"black\" d=\"M155,-187C155,-187 63,-187 63,-187 57,-187 51,-181 51,-175 51,-175 51,-116 51,-116 51,-110 57,-104 63,-104 63,-104 155,-104 155,-104 161,-104 167,-110 167,-116 167,-116 167,-175 167,-175 167,-181 161,-187 155,-187\"/>\r\n",
       "<text text-anchor=\"middle\" x=\"109\" y=\"-171.8\" font-family=\"Helvetica,sans-Serif\" font-size=\"14.00\">ER.2 &lt;= 4.0</text>\r\n",
       "<text text-anchor=\"middle\" x=\"109\" y=\"-156.8\" font-family=\"Helvetica,sans-Serif\" font-size=\"14.00\">entropy = 0.811</text>\r\n",
       "<text text-anchor=\"middle\" x=\"109\" y=\"-141.8\" font-family=\"Helvetica,sans-Serif\" font-size=\"14.00\">samples = 4</text>\r\n",
       "<text text-anchor=\"middle\" x=\"109\" y=\"-126.8\" font-family=\"Helvetica,sans-Serif\" font-size=\"14.00\">value = [1, 3]</text>\r\n",
       "<text text-anchor=\"middle\" x=\"109\" y=\"-111.8\" font-family=\"Helvetica,sans-Serif\" font-size=\"14.00\">class = 18</text>\r\n",
       "</g>\r\n",
       "<!-- 1 -->\r\n",
       "<g id=\"node2\" class=\"node\">\r\n",
       "<title>1</title>\r\n",
       "<path fill=\"#e58139\" stroke=\"black\" d=\"M88,-68C88,-68 12,-68 12,-68 6,-68 0,-62 0,-56 0,-56 0,-12 0,-12 0,-6 6,0 12,0 12,0 88,0 88,0 94,0 100,-6 100,-12 100,-12 100,-56 100,-56 100,-62 94,-68 88,-68\"/>\r\n",
       "<text text-anchor=\"middle\" x=\"50\" y=\"-52.8\" font-family=\"Helvetica,sans-Serif\" font-size=\"14.00\">entropy = 0.0</text>\r\n",
       "<text text-anchor=\"middle\" x=\"50\" y=\"-37.8\" font-family=\"Helvetica,sans-Serif\" font-size=\"14.00\">samples = 1</text>\r\n",
       "<text text-anchor=\"middle\" x=\"50\" y=\"-22.8\" font-family=\"Helvetica,sans-Serif\" font-size=\"14.00\">value = [1, 0]</text>\r\n",
       "<text text-anchor=\"middle\" x=\"50\" y=\"-7.8\" font-family=\"Helvetica,sans-Serif\" font-size=\"14.00\">class = 0</text>\r\n",
       "</g>\r\n",
       "<!-- 0&#45;&gt;1 -->\r\n",
       "<g id=\"edge1\" class=\"edge\">\r\n",
       "<title>0&#45;&gt;1</title>\r\n",
       "<path fill=\"none\" stroke=\"black\" d=\"M87.03,-103.73C82.36,-95.06 77.42,-85.9 72.73,-77.18\"/>\r\n",
       "<polygon fill=\"black\" stroke=\"black\" points=\"75.77,-75.44 67.94,-68.3 69.6,-78.76 75.77,-75.44\"/>\r\n",
       "<text text-anchor=\"middle\" x=\"60.77\" y=\"-88.55\" font-family=\"Helvetica,sans-Serif\" font-size=\"14.00\">True</text>\r\n",
       "</g>\r\n",
       "<!-- 2 -->\r\n",
       "<g id=\"node3\" class=\"node\">\r\n",
       "<title>2</title>\r\n",
       "<path fill=\"#399de5\" stroke=\"black\" d=\"M206,-68C206,-68 130,-68 130,-68 124,-68 118,-62 118,-56 118,-56 118,-12 118,-12 118,-6 124,0 130,0 130,0 206,0 206,0 212,0 218,-6 218,-12 218,-12 218,-56 218,-56 218,-62 212,-68 206,-68\"/>\r\n",
       "<text text-anchor=\"middle\" x=\"168\" y=\"-52.8\" font-family=\"Helvetica,sans-Serif\" font-size=\"14.00\">entropy = 0.0</text>\r\n",
       "<text text-anchor=\"middle\" x=\"168\" y=\"-37.8\" font-family=\"Helvetica,sans-Serif\" font-size=\"14.00\">samples = 3</text>\r\n",
       "<text text-anchor=\"middle\" x=\"168\" y=\"-22.8\" font-family=\"Helvetica,sans-Serif\" font-size=\"14.00\">value = [0, 3]</text>\r\n",
       "<text text-anchor=\"middle\" x=\"168\" y=\"-7.8\" font-family=\"Helvetica,sans-Serif\" font-size=\"14.00\">class = 18</text>\r\n",
       "</g>\r\n",
       "<!-- 0&#45;&gt;2 -->\r\n",
       "<g id=\"edge2\" class=\"edge\">\r\n",
       "<title>0&#45;&gt;2</title>\r\n",
       "<path fill=\"none\" stroke=\"black\" d=\"M130.97,-103.73C135.64,-95.06 140.58,-85.9 145.27,-77.18\"/>\r\n",
       "<polygon fill=\"black\" stroke=\"black\" points=\"148.4,-78.76 150.06,-68.3 142.23,-75.44 148.4,-78.76\"/>\r\n",
       "<text text-anchor=\"middle\" x=\"157.23\" y=\"-88.55\" font-family=\"Helvetica,sans-Serif\" font-size=\"14.00\">False</text>\r\n",
       "</g>\r\n",
       "</g>\r\n",
       "</svg>\r\n"
      ],
      "text/plain": [
       "<graphviz.files.Source at 0x19c3a88b470>"
      ]
     },
     "execution_count": 18,
     "metadata": {},
     "output_type": "execute_result"
    }
   ],
   "source": [
    "Source.from_file('tree5.dot')"
   ]
  },
  {
   "cell_type": "code",
   "execution_count": 19,
   "metadata": {},
   "outputs": [
    {
     "data": {
      "image/svg+xml": [
       "<?xml version=\"1.0\" encoding=\"UTF-8\" standalone=\"no\"?>\r\n",
       "<!DOCTYPE svg PUBLIC \"-//W3C//DTD SVG 1.1//EN\"\r\n",
       " \"http://www.w3.org/Graphics/SVG/1.1/DTD/svg11.dtd\">\r\n",
       "<!-- Generated by graphviz version 2.44.1 (20200629.0846)\r\n",
       " -->\r\n",
       "<!-- Title: Tree Pages: 1 -->\r\n",
       "<svg width=\"719pt\" height=\"433pt\"\r\n",
       " viewBox=\"0.00 0.00 719.00 433.00\" xmlns=\"http://www.w3.org/2000/svg\" xmlns:xlink=\"http://www.w3.org/1999/xlink\">\r\n",
       "<g id=\"graph0\" class=\"graph\" transform=\"scale(1 1) rotate(0) translate(4 429)\">\r\n",
       "<title>Tree</title>\r\n",
       "<polygon fill=\"white\" stroke=\"transparent\" points=\"-4,4 -4,-429 715,-429 715,4 -4,4\"/>\r\n",
       "<!-- 0 -->\r\n",
       "<g id=\"node1\" class=\"node\">\r\n",
       "<title>0</title>\r\n",
       "<path fill=\"#ffffff\" stroke=\"black\" d=\"M375,-425C375,-425 255,-425 255,-425 249,-425 243,-419 243,-413 243,-413 243,-354 243,-354 243,-348 249,-342 255,-342 255,-342 375,-342 375,-342 381,-342 387,-348 387,-354 387,-354 387,-413 387,-413 387,-419 381,-425 375,-425\"/>\r\n",
       "<text text-anchor=\"middle\" x=\"315\" y=\"-409.8\" font-family=\"Helvetica,sans-Serif\" font-size=\"14.00\">ER.4 &lt;= 14.5</text>\r\n",
       "<text text-anchor=\"middle\" x=\"315\" y=\"-394.8\" font-family=\"Helvetica,sans-Serif\" font-size=\"14.00\">entropy = 2.322</text>\r\n",
       "<text text-anchor=\"middle\" x=\"315\" y=\"-379.8\" font-family=\"Helvetica,sans-Serif\" font-size=\"14.00\">samples = 5</text>\r\n",
       "<text text-anchor=\"middle\" x=\"315\" y=\"-364.8\" font-family=\"Helvetica,sans-Serif\" font-size=\"14.00\">value = [1, 1, 1, 1, 1]</text>\r\n",
       "<text text-anchor=\"middle\" x=\"315\" y=\"-349.8\" font-family=\"Helvetica,sans-Serif\" font-size=\"14.00\">class = 0</text>\r\n",
       "</g>\r\n",
       "<!-- 1 -->\r\n",
       "<g id=\"node2\" class=\"node\">\r\n",
       "<title>1</title>\r\n",
       "<path fill=\"#ffffff\" stroke=\"black\" d=\"M294,-306C294,-306 174,-306 174,-306 168,-306 162,-300 162,-294 162,-294 162,-235 162,-235 162,-229 168,-223 174,-223 174,-223 294,-223 294,-223 300,-223 306,-229 306,-235 306,-235 306,-294 306,-294 306,-300 300,-306 294,-306\"/>\r\n",
       "<text text-anchor=\"middle\" x=\"234\" y=\"-290.8\" font-family=\"Helvetica,sans-Serif\" font-size=\"14.00\">5 &lt;= 0.5</text>\r\n",
       "<text text-anchor=\"middle\" x=\"234\" y=\"-275.8\" font-family=\"Helvetica,sans-Serif\" font-size=\"14.00\">entropy = 1.0</text>\r\n",
       "<text text-anchor=\"middle\" x=\"234\" y=\"-260.8\" font-family=\"Helvetica,sans-Serif\" font-size=\"14.00\">samples = 2</text>\r\n",
       "<text text-anchor=\"middle\" x=\"234\" y=\"-245.8\" font-family=\"Helvetica,sans-Serif\" font-size=\"14.00\">value = [1, 1, 0, 0, 0]</text>\r\n",
       "<text text-anchor=\"middle\" x=\"234\" y=\"-230.8\" font-family=\"Helvetica,sans-Serif\" font-size=\"14.00\">class = 0</text>\r\n",
       "</g>\r\n",
       "<!-- 0&#45;&gt;1 -->\r\n",
       "<g id=\"edge1\" class=\"edge\">\r\n",
       "<title>0&#45;&gt;1</title>\r\n",
       "<path fill=\"none\" stroke=\"black\" d=\"M286.9,-341.91C280.74,-333.01 274.16,-323.51 267.81,-314.33\"/>\r\n",
       "<polygon fill=\"black\" stroke=\"black\" points=\"270.62,-312.25 262.05,-306.02 264.87,-316.24 270.62,-312.25\"/>\r\n",
       "<text text-anchor=\"middle\" x=\"257.58\" y=\"-326.92\" font-family=\"Helvetica,sans-Serif\" font-size=\"14.00\">True</text>\r\n",
       "</g>\r\n",
       "<!-- 4 -->\r\n",
       "<g id=\"node5\" class=\"node\">\r\n",
       "<title>4</title>\r\n",
       "<path fill=\"#ffffff\" stroke=\"black\" d=\"M456,-306C456,-306 336,-306 336,-306 330,-306 324,-300 324,-294 324,-294 324,-235 324,-235 324,-229 330,-223 336,-223 336,-223 456,-223 456,-223 462,-223 468,-229 468,-235 468,-235 468,-294 468,-294 468,-300 462,-306 456,-306\"/>\r\n",
       "<text text-anchor=\"middle\" x=\"396\" y=\"-290.8\" font-family=\"Helvetica,sans-Serif\" font-size=\"14.00\">ER.4 &lt;= 16.5</text>\r\n",
       "<text text-anchor=\"middle\" x=\"396\" y=\"-275.8\" font-family=\"Helvetica,sans-Serif\" font-size=\"14.00\">entropy = 1.585</text>\r\n",
       "<text text-anchor=\"middle\" x=\"396\" y=\"-260.8\" font-family=\"Helvetica,sans-Serif\" font-size=\"14.00\">samples = 3</text>\r\n",
       "<text text-anchor=\"middle\" x=\"396\" y=\"-245.8\" font-family=\"Helvetica,sans-Serif\" font-size=\"14.00\">value = [0, 0, 1, 1, 1]</text>\r\n",
       "<text text-anchor=\"middle\" x=\"396\" y=\"-230.8\" font-family=\"Helvetica,sans-Serif\" font-size=\"14.00\">class = 12</text>\r\n",
       "</g>\r\n",
       "<!-- 0&#45;&gt;4 -->\r\n",
       "<g id=\"edge4\" class=\"edge\">\r\n",
       "<title>0&#45;&gt;4</title>\r\n",
       "<path fill=\"none\" stroke=\"black\" d=\"M343.1,-341.91C349.26,-333.01 355.84,-323.51 362.19,-314.33\"/>\r\n",
       "<polygon fill=\"black\" stroke=\"black\" points=\"365.13,-316.24 367.95,-306.02 359.38,-312.25 365.13,-316.24\"/>\r\n",
       "<text text-anchor=\"middle\" x=\"372.42\" y=\"-326.92\" font-family=\"Helvetica,sans-Serif\" font-size=\"14.00\">False</text>\r\n",
       "</g>\r\n",
       "<!-- 2 -->\r\n",
       "<g id=\"node3\" class=\"node\">\r\n",
       "<title>2</title>\r\n",
       "<path fill=\"#e58139\" stroke=\"black\" d=\"M132,-179.5C132,-179.5 12,-179.5 12,-179.5 6,-179.5 0,-173.5 0,-167.5 0,-167.5 0,-123.5 0,-123.5 0,-117.5 6,-111.5 12,-111.5 12,-111.5 132,-111.5 132,-111.5 138,-111.5 144,-117.5 144,-123.5 144,-123.5 144,-167.5 144,-167.5 144,-173.5 138,-179.5 132,-179.5\"/>\r\n",
       "<text text-anchor=\"middle\" x=\"72\" y=\"-164.3\" font-family=\"Helvetica,sans-Serif\" font-size=\"14.00\">entropy = 0.0</text>\r\n",
       "<text text-anchor=\"middle\" x=\"72\" y=\"-149.3\" font-family=\"Helvetica,sans-Serif\" font-size=\"14.00\">samples = 1</text>\r\n",
       "<text text-anchor=\"middle\" x=\"72\" y=\"-134.3\" font-family=\"Helvetica,sans-Serif\" font-size=\"14.00\">value = [1, 0, 0, 0, 0]</text>\r\n",
       "<text text-anchor=\"middle\" x=\"72\" y=\"-119.3\" font-family=\"Helvetica,sans-Serif\" font-size=\"14.00\">class = 0</text>\r\n",
       "</g>\r\n",
       "<!-- 1&#45;&gt;2 -->\r\n",
       "<g id=\"edge2\" class=\"edge\">\r\n",
       "<title>1&#45;&gt;2</title>\r\n",
       "<path fill=\"none\" stroke=\"black\" d=\"M177.79,-222.91C161.14,-210.88 142.94,-197.73 126.4,-185.79\"/>\r\n",
       "<polygon fill=\"black\" stroke=\"black\" points=\"128.08,-182.68 117.92,-179.67 123.98,-188.36 128.08,-182.68\"/>\r\n",
       "</g>\r\n",
       "<!-- 3 -->\r\n",
       "<g id=\"node4\" class=\"node\">\r\n",
       "<title>3</title>\r\n",
       "<path fill=\"#7be539\" stroke=\"black\" d=\"M294,-179.5C294,-179.5 174,-179.5 174,-179.5 168,-179.5 162,-173.5 162,-167.5 162,-167.5 162,-123.5 162,-123.5 162,-117.5 168,-111.5 174,-111.5 174,-111.5 294,-111.5 294,-111.5 300,-111.5 306,-117.5 306,-123.5 306,-123.5 306,-167.5 306,-167.5 306,-173.5 300,-179.5 294,-179.5\"/>\r\n",
       "<text text-anchor=\"middle\" x=\"234\" y=\"-164.3\" font-family=\"Helvetica,sans-Serif\" font-size=\"14.00\">entropy = 0.0</text>\r\n",
       "<text text-anchor=\"middle\" x=\"234\" y=\"-149.3\" font-family=\"Helvetica,sans-Serif\" font-size=\"14.00\">samples = 1</text>\r\n",
       "<text text-anchor=\"middle\" x=\"234\" y=\"-134.3\" font-family=\"Helvetica,sans-Serif\" font-size=\"14.00\">value = [0, 1, 0, 0, 0]</text>\r\n",
       "<text text-anchor=\"middle\" x=\"234\" y=\"-119.3\" font-family=\"Helvetica,sans-Serif\" font-size=\"14.00\">class = 8</text>\r\n",
       "</g>\r\n",
       "<!-- 1&#45;&gt;3 -->\r\n",
       "<g id=\"edge3\" class=\"edge\">\r\n",
       "<title>1&#45;&gt;3</title>\r\n",
       "<path fill=\"none\" stroke=\"black\" d=\"M234,-222.91C234,-212.2 234,-200.62 234,-189.78\"/>\r\n",
       "<polygon fill=\"black\" stroke=\"black\" points=\"237.5,-189.67 234,-179.67 230.5,-189.67 237.5,-189.67\"/>\r\n",
       "</g>\r\n",
       "<!-- 5 -->\r\n",
       "<g id=\"node6\" class=\"node\">\r\n",
       "<title>5</title>\r\n",
       "<path fill=\"#3c39e5\" stroke=\"black\" d=\"M456,-179.5C456,-179.5 336,-179.5 336,-179.5 330,-179.5 324,-173.5 324,-167.5 324,-167.5 324,-123.5 324,-123.5 324,-117.5 330,-111.5 336,-111.5 336,-111.5 456,-111.5 456,-111.5 462,-111.5 468,-117.5 468,-123.5 468,-123.5 468,-167.5 468,-167.5 468,-173.5 462,-179.5 456,-179.5\"/>\r\n",
       "<text text-anchor=\"middle\" x=\"396\" y=\"-164.3\" font-family=\"Helvetica,sans-Serif\" font-size=\"14.00\">entropy = 0.0</text>\r\n",
       "<text text-anchor=\"middle\" x=\"396\" y=\"-149.3\" font-family=\"Helvetica,sans-Serif\" font-size=\"14.00\">samples = 1</text>\r\n",
       "<text text-anchor=\"middle\" x=\"396\" y=\"-134.3\" font-family=\"Helvetica,sans-Serif\" font-size=\"14.00\">value = [0, 0, 0, 1, 0]</text>\r\n",
       "<text text-anchor=\"middle\" x=\"396\" y=\"-119.3\" font-family=\"Helvetica,sans-Serif\" font-size=\"14.00\">class = 15</text>\r\n",
       "</g>\r\n",
       "<!-- 4&#45;&gt;5 -->\r\n",
       "<g id=\"edge5\" class=\"edge\">\r\n",
       "<title>4&#45;&gt;5</title>\r\n",
       "<path fill=\"none\" stroke=\"black\" d=\"M396,-222.91C396,-212.2 396,-200.62 396,-189.78\"/>\r\n",
       "<polygon fill=\"black\" stroke=\"black\" points=\"399.5,-189.67 396,-179.67 392.5,-189.67 399.5,-189.67\"/>\r\n",
       "</g>\r\n",
       "<!-- 6 -->\r\n",
       "<g id=\"node7\" class=\"node\">\r\n",
       "<title>6</title>\r\n",
       "<path fill=\"#ffffff\" stroke=\"black\" d=\"M618,-187C618,-187 498,-187 498,-187 492,-187 486,-181 486,-175 486,-175 486,-116 486,-116 486,-110 492,-104 498,-104 498,-104 618,-104 618,-104 624,-104 630,-110 630,-116 630,-116 630,-175 630,-175 630,-181 624,-187 618,-187\"/>\r\n",
       "<text text-anchor=\"middle\" x=\"558\" y=\"-171.8\" font-family=\"Helvetica,sans-Serif\" font-size=\"14.00\">4 &lt;= 0.5</text>\r\n",
       "<text text-anchor=\"middle\" x=\"558\" y=\"-156.8\" font-family=\"Helvetica,sans-Serif\" font-size=\"14.00\">entropy = 1.0</text>\r\n",
       "<text text-anchor=\"middle\" x=\"558\" y=\"-141.8\" font-family=\"Helvetica,sans-Serif\" font-size=\"14.00\">samples = 2</text>\r\n",
       "<text text-anchor=\"middle\" x=\"558\" y=\"-126.8\" font-family=\"Helvetica,sans-Serif\" font-size=\"14.00\">value = [0, 0, 1, 0, 1]</text>\r\n",
       "<text text-anchor=\"middle\" x=\"558\" y=\"-111.8\" font-family=\"Helvetica,sans-Serif\" font-size=\"14.00\">class = 12</text>\r\n",
       "</g>\r\n",
       "<!-- 4&#45;&gt;6 -->\r\n",
       "<g id=\"edge6\" class=\"edge\">\r\n",
       "<title>4&#45;&gt;6</title>\r\n",
       "<path fill=\"none\" stroke=\"black\" d=\"M452.21,-222.91C465.52,-213.29 479.83,-202.95 493.49,-193.09\"/>\r\n",
       "<polygon fill=\"black\" stroke=\"black\" points=\"495.84,-195.71 501.89,-187.02 491.74,-190.04 495.84,-195.71\"/>\r\n",
       "</g>\r\n",
       "<!-- 7 -->\r\n",
       "<g id=\"node8\" class=\"node\">\r\n",
       "<title>7</title>\r\n",
       "<path fill=\"#39e5c5\" stroke=\"black\" d=\"M537,-68C537,-68 417,-68 417,-68 411,-68 405,-62 405,-56 405,-56 405,-12 405,-12 405,-6 411,0 417,0 417,0 537,0 537,0 543,0 549,-6 549,-12 549,-12 549,-56 549,-56 549,-62 543,-68 537,-68\"/>\r\n",
       "<text text-anchor=\"middle\" x=\"477\" y=\"-52.8\" font-family=\"Helvetica,sans-Serif\" font-size=\"14.00\">entropy = 0.0</text>\r\n",
       "<text text-anchor=\"middle\" x=\"477\" y=\"-37.8\" font-family=\"Helvetica,sans-Serif\" font-size=\"14.00\">samples = 1</text>\r\n",
       "<text text-anchor=\"middle\" x=\"477\" y=\"-22.8\" font-family=\"Helvetica,sans-Serif\" font-size=\"14.00\">value = [0, 0, 1, 0, 0]</text>\r\n",
       "<text text-anchor=\"middle\" x=\"477\" y=\"-7.8\" font-family=\"Helvetica,sans-Serif\" font-size=\"14.00\">class = 12</text>\r\n",
       "</g>\r\n",
       "<!-- 6&#45;&gt;7 -->\r\n",
       "<g id=\"edge7\" class=\"edge\">\r\n",
       "<title>6&#45;&gt;7</title>\r\n",
       "<path fill=\"none\" stroke=\"black\" d=\"M527.84,-103.73C521.23,-94.79 514.22,-85.32 507.59,-76.36\"/>\r\n",
       "<polygon fill=\"black\" stroke=\"black\" points=\"510.39,-74.26 501.63,-68.3 504.77,-78.42 510.39,-74.26\"/>\r\n",
       "</g>\r\n",
       "<!-- 8 -->\r\n",
       "<g id=\"node9\" class=\"node\">\r\n",
       "<title>8</title>\r\n",
       "<path fill=\"#e539c0\" stroke=\"black\" d=\"M699,-68C699,-68 579,-68 579,-68 573,-68 567,-62 567,-56 567,-56 567,-12 567,-12 567,-6 573,0 579,0 579,0 699,0 699,0 705,0 711,-6 711,-12 711,-12 711,-56 711,-56 711,-62 705,-68 699,-68\"/>\r\n",
       "<text text-anchor=\"middle\" x=\"639\" y=\"-52.8\" font-family=\"Helvetica,sans-Serif\" font-size=\"14.00\">entropy = 0.0</text>\r\n",
       "<text text-anchor=\"middle\" x=\"639\" y=\"-37.8\" font-family=\"Helvetica,sans-Serif\" font-size=\"14.00\">samples = 1</text>\r\n",
       "<text text-anchor=\"middle\" x=\"639\" y=\"-22.8\" font-family=\"Helvetica,sans-Serif\" font-size=\"14.00\">value = [0, 0, 0, 0, 1]</text>\r\n",
       "<text text-anchor=\"middle\" x=\"639\" y=\"-7.8\" font-family=\"Helvetica,sans-Serif\" font-size=\"14.00\">class = 18</text>\r\n",
       "</g>\r\n",
       "<!-- 6&#45;&gt;8 -->\r\n",
       "<g id=\"edge8\" class=\"edge\">\r\n",
       "<title>6&#45;&gt;8</title>\r\n",
       "<path fill=\"none\" stroke=\"black\" d=\"M588.16,-103.73C594.77,-94.79 601.78,-85.32 608.41,-76.36\"/>\r\n",
       "<polygon fill=\"black\" stroke=\"black\" points=\"611.23,-78.42 614.37,-68.3 605.61,-74.26 611.23,-78.42\"/>\r\n",
       "</g>\r\n",
       "</g>\r\n",
       "</svg>\r\n"
      ],
      "text/plain": [
       "<graphviz.files.Source at 0x19c3a88b748>"
      ]
     },
     "execution_count": 19,
     "metadata": {},
     "output_type": "execute_result"
    }
   ],
   "source": [
    "Source.from_file('tree6.dot')"
   ]
  },
  {
   "cell_type": "code",
   "execution_count": 20,
   "metadata": {},
   "outputs": [
    {
     "data": {
      "image/svg+xml": [
       "<?xml version=\"1.0\" encoding=\"UTF-8\" standalone=\"no\"?>\r\n",
       "<!DOCTYPE svg PUBLIC \"-//W3C//DTD SVG 1.1//EN\"\r\n",
       " \"http://www.w3.org/Graphics/SVG/1.1/DTD/svg11.dtd\">\r\n",
       "<!-- Generated by graphviz version 2.44.1 (20200629.0846)\r\n",
       " -->\r\n",
       "<!-- Title: Tree Pages: 1 -->\r\n",
       "<svg width=\"642pt\" height=\"433pt\"\r\n",
       " viewBox=\"0.00 0.00 642.00 433.00\" xmlns=\"http://www.w3.org/2000/svg\" xmlns:xlink=\"http://www.w3.org/1999/xlink\">\r\n",
       "<g id=\"graph0\" class=\"graph\" transform=\"scale(1 1) rotate(0) translate(4 429)\">\r\n",
       "<title>Tree</title>\r\n",
       "<polygon fill=\"white\" stroke=\"transparent\" points=\"-4,4 -4,-429 638,-429 638,4 -4,4\"/>\r\n",
       "<!-- 0 -->\r\n",
       "<g id=\"node1\" class=\"node\">\r\n",
       "<title>0</title>\r\n",
       "<path fill=\"#fae6d7\" stroke=\"black\" d=\"M376,-425C376,-425 256,-425 256,-425 250,-425 244,-419 244,-413 244,-413 244,-354 244,-354 244,-348 250,-342 256,-342 256,-342 376,-342 376,-342 382,-342 388,-348 388,-354 388,-354 388,-413 388,-413 388,-419 382,-425 376,-425\"/>\r\n",
       "<text text-anchor=\"middle\" x=\"316\" y=\"-409.8\" font-family=\"Helvetica,sans-Serif\" font-size=\"14.00\">Work hours &lt;= 2.5</text>\r\n",
       "<text text-anchor=\"middle\" x=\"316\" y=\"-394.8\" font-family=\"Helvetica,sans-Serif\" font-size=\"14.00\">entropy = 2.252</text>\r\n",
       "<text text-anchor=\"middle\" x=\"316\" y=\"-379.8\" font-family=\"Helvetica,sans-Serif\" font-size=\"14.00\">samples = 6</text>\r\n",
       "<text text-anchor=\"middle\" x=\"316\" y=\"-364.8\" font-family=\"Helvetica,sans-Serif\" font-size=\"14.00\">value = [2, 1, 1, 1, 1]</text>\r\n",
       "<text text-anchor=\"middle\" x=\"316\" y=\"-349.8\" font-family=\"Helvetica,sans-Serif\" font-size=\"14.00\">class = 11</text>\r\n",
       "</g>\r\n",
       "<!-- 1 -->\r\n",
       "<g id=\"node2\" class=\"node\">\r\n",
       "<title>1</title>\r\n",
       "<path fill=\"#ffffff\" stroke=\"black\" d=\"M299.5,-306C299.5,-306 162.5,-306 162.5,-306 156.5,-306 150.5,-300 150.5,-294 150.5,-294 150.5,-235 150.5,-235 150.5,-229 156.5,-223 162.5,-223 162.5,-223 299.5,-223 299.5,-223 305.5,-223 311.5,-229 311.5,-235 311.5,-235 311.5,-294 311.5,-294 311.5,-300 305.5,-306 299.5,-306\"/>\r\n",
       "<text text-anchor=\"middle\" x=\"231\" y=\"-290.8\" font-family=\"Helvetica,sans-Serif\" font-size=\"14.00\">Health condition &lt;= 1.5</text>\r\n",
       "<text text-anchor=\"middle\" x=\"231\" y=\"-275.8\" font-family=\"Helvetica,sans-Serif\" font-size=\"14.00\">entropy = 1.585</text>\r\n",
       "<text text-anchor=\"middle\" x=\"231\" y=\"-260.8\" font-family=\"Helvetica,sans-Serif\" font-size=\"14.00\">samples = 3</text>\r\n",
       "<text text-anchor=\"middle\" x=\"231\" y=\"-245.8\" font-family=\"Helvetica,sans-Serif\" font-size=\"14.00\">value = [0, 1, 1, 1, 0]</text>\r\n",
       "<text text-anchor=\"middle\" x=\"231\" y=\"-230.8\" font-family=\"Helvetica,sans-Serif\" font-size=\"14.00\">class = 13</text>\r\n",
       "</g>\r\n",
       "<!-- 0&#45;&gt;1 -->\r\n",
       "<g id=\"edge1\" class=\"edge\">\r\n",
       "<title>0&#45;&gt;1</title>\r\n",
       "<path fill=\"none\" stroke=\"black\" d=\"M286.51,-341.91C280.05,-333.01 273.14,-323.51 266.48,-314.33\"/>\r\n",
       "<polygon fill=\"black\" stroke=\"black\" points=\"269.15,-312.05 260.44,-306.02 263.48,-316.17 269.15,-312.05\"/>\r\n",
       "<text text-anchor=\"middle\" x=\"256.53\" y=\"-327.01\" font-family=\"Helvetica,sans-Serif\" font-size=\"14.00\">True</text>\r\n",
       "</g>\r\n",
       "<!-- 6 -->\r\n",
       "<g id=\"node7\" class=\"node\">\r\n",
       "<title>6</title>\r\n",
       "<path fill=\"#f2c09c\" stroke=\"black\" d=\"M462,-306C462,-306 342,-306 342,-306 336,-306 330,-300 330,-294 330,-294 330,-235 330,-235 330,-229 336,-223 342,-223 342,-223 462,-223 462,-223 468,-223 474,-229 474,-235 474,-235 474,-294 474,-294 474,-300 468,-306 462,-306\"/>\r\n",
       "<text text-anchor=\"middle\" x=\"402\" y=\"-290.8\" font-family=\"Helvetica,sans-Serif\" font-size=\"14.00\">Ethnicity &lt;= 0.5</text>\r\n",
       "<text text-anchor=\"middle\" x=\"402\" y=\"-275.8\" font-family=\"Helvetica,sans-Serif\" font-size=\"14.00\">entropy = 0.918</text>\r\n",
       "<text text-anchor=\"middle\" x=\"402\" y=\"-260.8\" font-family=\"Helvetica,sans-Serif\" font-size=\"14.00\">samples = 3</text>\r\n",
       "<text text-anchor=\"middle\" x=\"402\" y=\"-245.8\" font-family=\"Helvetica,sans-Serif\" font-size=\"14.00\">value = [2, 0, 0, 0, 1]</text>\r\n",
       "<text text-anchor=\"middle\" x=\"402\" y=\"-230.8\" font-family=\"Helvetica,sans-Serif\" font-size=\"14.00\">class = 11</text>\r\n",
       "</g>\r\n",
       "<!-- 0&#45;&gt;6 -->\r\n",
       "<g id=\"edge6\" class=\"edge\">\r\n",
       "<title>0&#45;&gt;6</title>\r\n",
       "<path fill=\"none\" stroke=\"black\" d=\"M345.84,-341.91C352.37,-333.01 359.36,-323.51 366.11,-314.33\"/>\r\n",
       "<polygon fill=\"black\" stroke=\"black\" points=\"369.11,-316.15 372.22,-306.02 363.47,-312.01 369.11,-316.15\"/>\r\n",
       "<text text-anchor=\"middle\" x=\"375.99\" y=\"-327.03\" font-family=\"Helvetica,sans-Serif\" font-size=\"14.00\">False</text>\r\n",
       "</g>\r\n",
       "<!-- 2 -->\r\n",
       "<g id=\"node3\" class=\"node\">\r\n",
       "<title>2</title>\r\n",
       "<path fill=\"#7be539\" stroke=\"black\" d=\"M132,-179.5C132,-179.5 12,-179.5 12,-179.5 6,-179.5 0,-173.5 0,-167.5 0,-167.5 0,-123.5 0,-123.5 0,-117.5 6,-111.5 12,-111.5 12,-111.5 132,-111.5 132,-111.5 138,-111.5 144,-117.5 144,-123.5 144,-123.5 144,-167.5 144,-167.5 144,-173.5 138,-179.5 132,-179.5\"/>\r\n",
       "<text text-anchor=\"middle\" x=\"72\" y=\"-164.3\" font-family=\"Helvetica,sans-Serif\" font-size=\"14.00\">entropy = 0.0</text>\r\n",
       "<text text-anchor=\"middle\" x=\"72\" y=\"-149.3\" font-family=\"Helvetica,sans-Serif\" font-size=\"14.00\">samples = 1</text>\r\n",
       "<text text-anchor=\"middle\" x=\"72\" y=\"-134.3\" font-family=\"Helvetica,sans-Serif\" font-size=\"14.00\">value = [0, 1, 0, 0, 0]</text>\r\n",
       "<text text-anchor=\"middle\" x=\"72\" y=\"-119.3\" font-family=\"Helvetica,sans-Serif\" font-size=\"14.00\">class = 13</text>\r\n",
       "</g>\r\n",
       "<!-- 1&#45;&gt;2 -->\r\n",
       "<g id=\"edge2\" class=\"edge\">\r\n",
       "<title>1&#45;&gt;2</title>\r\n",
       "<path fill=\"none\" stroke=\"black\" d=\"M175.84,-222.91C159.49,-210.88 141.63,-197.73 125.4,-185.79\"/>\r\n",
       "<polygon fill=\"black\" stroke=\"black\" points=\"127.2,-182.77 117.07,-179.67 123.05,-188.41 127.2,-182.77\"/>\r\n",
       "</g>\r\n",
       "<!-- 3 -->\r\n",
       "<g id=\"node4\" class=\"node\">\r\n",
       "<title>3</title>\r\n",
       "<path fill=\"#ffffff\" stroke=\"black\" d=\"M294,-187C294,-187 174,-187 174,-187 168,-187 162,-181 162,-175 162,-175 162,-116 162,-116 162,-110 168,-104 174,-104 174,-104 294,-104 294,-104 300,-104 306,-110 306,-116 306,-116 306,-175 306,-175 306,-181 300,-187 294,-187\"/>\r\n",
       "<text text-anchor=\"middle\" x=\"234\" y=\"-171.8\" font-family=\"Helvetica,sans-Serif\" font-size=\"14.00\">ER.2 &lt;= 13.5</text>\r\n",
       "<text text-anchor=\"middle\" x=\"234\" y=\"-156.8\" font-family=\"Helvetica,sans-Serif\" font-size=\"14.00\">entropy = 1.0</text>\r\n",
       "<text text-anchor=\"middle\" x=\"234\" y=\"-141.8\" font-family=\"Helvetica,sans-Serif\" font-size=\"14.00\">samples = 2</text>\r\n",
       "<text text-anchor=\"middle\" x=\"234\" y=\"-126.8\" font-family=\"Helvetica,sans-Serif\" font-size=\"14.00\">value = [0, 0, 1, 1, 0]</text>\r\n",
       "<text text-anchor=\"middle\" x=\"234\" y=\"-111.8\" font-family=\"Helvetica,sans-Serif\" font-size=\"14.00\">class = 15</text>\r\n",
       "</g>\r\n",
       "<!-- 1&#45;&gt;3 -->\r\n",
       "<g id=\"edge3\" class=\"edge\">\r\n",
       "<title>1&#45;&gt;3</title>\r\n",
       "<path fill=\"none\" stroke=\"black\" d=\"M232.04,-222.91C232.25,-214.56 232.48,-205.67 232.7,-197.02\"/>\r\n",
       "<polygon fill=\"black\" stroke=\"black\" points=\"236.2,-197.11 232.96,-187.02 229.21,-196.93 236.2,-197.11\"/>\r\n",
       "</g>\r\n",
       "<!-- 4 -->\r\n",
       "<g id=\"node5\" class=\"node\">\r\n",
       "<title>4</title>\r\n",
       "<path fill=\"#3c39e5\" stroke=\"black\" d=\"M213,-68C213,-68 93,-68 93,-68 87,-68 81,-62 81,-56 81,-56 81,-12 81,-12 81,-6 87,0 93,0 93,0 213,0 213,0 219,0 225,-6 225,-12 225,-12 225,-56 225,-56 225,-62 219,-68 213,-68\"/>\r\n",
       "<text text-anchor=\"middle\" x=\"153\" y=\"-52.8\" font-family=\"Helvetica,sans-Serif\" font-size=\"14.00\">entropy = 0.0</text>\r\n",
       "<text text-anchor=\"middle\" x=\"153\" y=\"-37.8\" font-family=\"Helvetica,sans-Serif\" font-size=\"14.00\">samples = 1</text>\r\n",
       "<text text-anchor=\"middle\" x=\"153\" y=\"-22.8\" font-family=\"Helvetica,sans-Serif\" font-size=\"14.00\">value = [0, 0, 0, 1, 0]</text>\r\n",
       "<text text-anchor=\"middle\" x=\"153\" y=\"-7.8\" font-family=\"Helvetica,sans-Serif\" font-size=\"14.00\">class = 17</text>\r\n",
       "</g>\r\n",
       "<!-- 3&#45;&gt;4 -->\r\n",
       "<g id=\"edge4\" class=\"edge\">\r\n",
       "<title>3&#45;&gt;4</title>\r\n",
       "<path fill=\"none\" stroke=\"black\" d=\"M203.84,-103.73C197.23,-94.79 190.22,-85.32 183.59,-76.36\"/>\r\n",
       "<polygon fill=\"black\" stroke=\"black\" points=\"186.39,-74.26 177.63,-68.3 180.77,-78.42 186.39,-74.26\"/>\r\n",
       "</g>\r\n",
       "<!-- 5 -->\r\n",
       "<g id=\"node6\" class=\"node\">\r\n",
       "<title>5</title>\r\n",
       "<path fill=\"#39e5c5\" stroke=\"black\" d=\"M375,-68C375,-68 255,-68 255,-68 249,-68 243,-62 243,-56 243,-56 243,-12 243,-12 243,-6 249,0 255,0 255,0 375,0 375,0 381,0 387,-6 387,-12 387,-12 387,-56 387,-56 387,-62 381,-68 375,-68\"/>\r\n",
       "<text text-anchor=\"middle\" x=\"315\" y=\"-52.8\" font-family=\"Helvetica,sans-Serif\" font-size=\"14.00\">entropy = 0.0</text>\r\n",
       "<text text-anchor=\"middle\" x=\"315\" y=\"-37.8\" font-family=\"Helvetica,sans-Serif\" font-size=\"14.00\">samples = 1</text>\r\n",
       "<text text-anchor=\"middle\" x=\"315\" y=\"-22.8\" font-family=\"Helvetica,sans-Serif\" font-size=\"14.00\">value = [0, 0, 1, 0, 0]</text>\r\n",
       "<text text-anchor=\"middle\" x=\"315\" y=\"-7.8\" font-family=\"Helvetica,sans-Serif\" font-size=\"14.00\">class = 15</text>\r\n",
       "</g>\r\n",
       "<!-- 3&#45;&gt;5 -->\r\n",
       "<g id=\"edge5\" class=\"edge\">\r\n",
       "<title>3&#45;&gt;5</title>\r\n",
       "<path fill=\"none\" stroke=\"black\" d=\"M264.16,-103.73C270.77,-94.79 277.78,-85.32 284.41,-76.36\"/>\r\n",
       "<polygon fill=\"black\" stroke=\"black\" points=\"287.23,-78.42 290.37,-68.3 281.61,-74.26 287.23,-78.42\"/>\r\n",
       "</g>\r\n",
       "<!-- 7 -->\r\n",
       "<g id=\"node8\" class=\"node\">\r\n",
       "<title>7</title>\r\n",
       "<path fill=\"#e58139\" stroke=\"black\" d=\"M460,-179.5C460,-179.5 340,-179.5 340,-179.5 334,-179.5 328,-173.5 328,-167.5 328,-167.5 328,-123.5 328,-123.5 328,-117.5 334,-111.5 340,-111.5 340,-111.5 460,-111.5 460,-111.5 466,-111.5 472,-117.5 472,-123.5 472,-123.5 472,-167.5 472,-167.5 472,-173.5 466,-179.5 460,-179.5\"/>\r\n",
       "<text text-anchor=\"middle\" x=\"400\" y=\"-164.3\" font-family=\"Helvetica,sans-Serif\" font-size=\"14.00\">entropy = 0.0</text>\r\n",
       "<text text-anchor=\"middle\" x=\"400\" y=\"-149.3\" font-family=\"Helvetica,sans-Serif\" font-size=\"14.00\">samples = 2</text>\r\n",
       "<text text-anchor=\"middle\" x=\"400\" y=\"-134.3\" font-family=\"Helvetica,sans-Serif\" font-size=\"14.00\">value = [2, 0, 0, 0, 0]</text>\r\n",
       "<text text-anchor=\"middle\" x=\"400\" y=\"-119.3\" font-family=\"Helvetica,sans-Serif\" font-size=\"14.00\">class = 11</text>\r\n",
       "</g>\r\n",
       "<!-- 6&#45;&gt;7 -->\r\n",
       "<g id=\"edge7\" class=\"edge\">\r\n",
       "<title>6&#45;&gt;7</title>\r\n",
       "<path fill=\"none\" stroke=\"black\" d=\"M401.31,-222.91C401.12,-212.2 400.93,-200.62 400.74,-189.78\"/>\r\n",
       "<polygon fill=\"black\" stroke=\"black\" points=\"404.24,-189.61 400.57,-179.67 397.24,-189.73 404.24,-189.61\"/>\r\n",
       "</g>\r\n",
       "<!-- 8 -->\r\n",
       "<g id=\"node9\" class=\"node\">\r\n",
       "<title>8</title>\r\n",
       "<path fill=\"#e539c0\" stroke=\"black\" d=\"M622,-179.5C622,-179.5 502,-179.5 502,-179.5 496,-179.5 490,-173.5 490,-167.5 490,-167.5 490,-123.5 490,-123.5 490,-117.5 496,-111.5 502,-111.5 502,-111.5 622,-111.5 622,-111.5 628,-111.5 634,-117.5 634,-123.5 634,-123.5 634,-167.5 634,-167.5 634,-173.5 628,-179.5 622,-179.5\"/>\r\n",
       "<text text-anchor=\"middle\" x=\"562\" y=\"-164.3\" font-family=\"Helvetica,sans-Serif\" font-size=\"14.00\">entropy = 0.0</text>\r\n",
       "<text text-anchor=\"middle\" x=\"562\" y=\"-149.3\" font-family=\"Helvetica,sans-Serif\" font-size=\"14.00\">samples = 1</text>\r\n",
       "<text text-anchor=\"middle\" x=\"562\" y=\"-134.3\" font-family=\"Helvetica,sans-Serif\" font-size=\"14.00\">value = [0, 0, 0, 0, 1]</text>\r\n",
       "<text text-anchor=\"middle\" x=\"562\" y=\"-119.3\" font-family=\"Helvetica,sans-Serif\" font-size=\"14.00\">class = 18</text>\r\n",
       "</g>\r\n",
       "<!-- 6&#45;&gt;8 -->\r\n",
       "<g id=\"edge8\" class=\"edge\">\r\n",
       "<title>6&#45;&gt;8</title>\r\n",
       "<path fill=\"none\" stroke=\"black\" d=\"M457.51,-222.91C473.96,-210.88 491.94,-197.73 508.27,-185.79\"/>\r\n",
       "<polygon fill=\"black\" stroke=\"black\" points=\"510.64,-188.39 516.64,-179.67 506.51,-182.74 510.64,-188.39\"/>\r\n",
       "</g>\r\n",
       "</g>\r\n",
       "</svg>\r\n"
      ],
      "text/plain": [
       "<graphviz.files.Source at 0x19c3a88b160>"
      ]
     },
     "execution_count": 20,
     "metadata": {},
     "output_type": "execute_result"
    }
   ],
   "source": [
    "Source.from_file('tree78.dot')"
   ]
  },
  {
   "cell_type": "code",
   "execution_count": 21,
   "metadata": {},
   "outputs": [
    {
     "data": {
      "image/svg+xml": [
       "<?xml version=\"1.0\" encoding=\"UTF-8\" standalone=\"no\"?>\r\n",
       "<!DOCTYPE svg PUBLIC \"-//W3C//DTD SVG 1.1//EN\"\r\n",
       " \"http://www.w3.org/Graphics/SVG/1.1/DTD/svg11.dtd\">\r\n",
       "<!-- Generated by graphviz version 2.44.1 (20200629.0846)\r\n",
       " -->\r\n",
       "<!-- Title: Tree Pages: 1 -->\r\n",
       "<svg width=\"791pt\" height=\"433pt\"\r\n",
       " viewBox=\"0.00 0.00 791.00 433.00\" xmlns=\"http://www.w3.org/2000/svg\" xmlns:xlink=\"http://www.w3.org/1999/xlink\">\r\n",
       "<g id=\"graph0\" class=\"graph\" transform=\"scale(1 1) rotate(0) translate(4 429)\">\r\n",
       "<title>Tree</title>\r\n",
       "<polygon fill=\"white\" stroke=\"transparent\" points=\"-4,4 -4,-429 787,-429 787,4 -4,4\"/>\r\n",
       "<!-- 0 -->\r\n",
       "<g id=\"node1\" class=\"node\">\r\n",
       "<title>0</title>\r\n",
       "<path fill=\"#ffffff\" stroke=\"black\" d=\"M415,-425C415,-425 279,-425 279,-425 273,-425 267,-419 267,-413 267,-413 267,-354 267,-354 267,-348 273,-342 279,-342 279,-342 415,-342 415,-342 421,-342 427,-348 427,-354 427,-354 427,-413 427,-413 427,-419 421,-425 415,-425\"/>\r\n",
       "<text text-anchor=\"middle\" x=\"347\" y=\"-409.8\" font-family=\"Helvetica,sans-Serif\" font-size=\"14.00\">1 &lt;= 0.5</text>\r\n",
       "<text text-anchor=\"middle\" x=\"347\" y=\"-394.8\" font-family=\"Helvetica,sans-Serif\" font-size=\"14.00\">entropy = 2.5</text>\r\n",
       "<text text-anchor=\"middle\" x=\"347\" y=\"-379.8\" font-family=\"Helvetica,sans-Serif\" font-size=\"14.00\">samples = 8</text>\r\n",
       "<text text-anchor=\"middle\" x=\"347\" y=\"-364.8\" font-family=\"Helvetica,sans-Serif\" font-size=\"14.00\">value = [2, 1, 2, 1, 1, 1]</text>\r\n",
       "<text text-anchor=\"middle\" x=\"347\" y=\"-349.8\" font-family=\"Helvetica,sans-Serif\" font-size=\"14.00\">class = 0</text>\r\n",
       "</g>\r\n",
       "<!-- 1 -->\r\n",
       "<g id=\"node2\" class=\"node\">\r\n",
       "<title>1</title>\r\n",
       "<path fill=\"#bdf6d5\" stroke=\"black\" d=\"M326,-306C326,-306 190,-306 190,-306 184,-306 178,-300 178,-294 178,-294 178,-235 178,-235 178,-229 184,-223 190,-223 190,-223 326,-223 326,-223 332,-223 338,-229 338,-235 338,-235 338,-294 338,-294 338,-300 332,-306 326,-306\"/>\r\n",
       "<text text-anchor=\"middle\" x=\"258\" y=\"-290.8\" font-family=\"Helvetica,sans-Serif\" font-size=\"14.00\">Income &lt;= 3.0</text>\r\n",
       "<text text-anchor=\"middle\" x=\"258\" y=\"-275.8\" font-family=\"Helvetica,sans-Serif\" font-size=\"14.00\">entropy = 1.5</text>\r\n",
       "<text text-anchor=\"middle\" x=\"258\" y=\"-260.8\" font-family=\"Helvetica,sans-Serif\" font-size=\"14.00\">samples = 4</text>\r\n",
       "<text text-anchor=\"middle\" x=\"258\" y=\"-245.8\" font-family=\"Helvetica,sans-Serif\" font-size=\"14.00\">value = [0, 1, 2, 1, 0, 0]</text>\r\n",
       "<text text-anchor=\"middle\" x=\"258\" y=\"-230.8\" font-family=\"Helvetica,sans-Serif\" font-size=\"14.00\">class = 4</text>\r\n",
       "</g>\r\n",
       "<!-- 0&#45;&gt;1 -->\r\n",
       "<g id=\"edge1\" class=\"edge\">\r\n",
       "<title>0&#45;&gt;1</title>\r\n",
       "<path fill=\"none\" stroke=\"black\" d=\"M316.12,-341.91C309.29,-332.92 301.98,-323.32 294.93,-314.05\"/>\r\n",
       "<polygon fill=\"black\" stroke=\"black\" points=\"297.66,-311.86 288.82,-306.02 292.09,-316.1 297.66,-311.86\"/>\r\n",
       "<text text-anchor=\"middle\" x=\"285.46\" y=\"-327.09\" font-family=\"Helvetica,sans-Serif\" font-size=\"14.00\">True</text>\r\n",
       "</g>\r\n",
       "<!-- 6 -->\r\n",
       "<g id=\"node7\" class=\"node\">\r\n",
       "<title>6</title>\r\n",
       "<path fill=\"#f6d5bd\" stroke=\"black\" d=\"M504,-306C504,-306 368,-306 368,-306 362,-306 356,-300 356,-294 356,-294 356,-235 356,-235 356,-229 362,-223 368,-223 368,-223 504,-223 504,-223 510,-223 516,-229 516,-235 516,-235 516,-294 516,-294 516,-300 510,-306 504,-306\"/>\r\n",
       "<text text-anchor=\"middle\" x=\"436\" y=\"-290.8\" font-family=\"Helvetica,sans-Serif\" font-size=\"14.00\">Motivation &lt;= 3.0</text>\r\n",
       "<text text-anchor=\"middle\" x=\"436\" y=\"-275.8\" font-family=\"Helvetica,sans-Serif\" font-size=\"14.00\">entropy = 1.5</text>\r\n",
       "<text text-anchor=\"middle\" x=\"436\" y=\"-260.8\" font-family=\"Helvetica,sans-Serif\" font-size=\"14.00\">samples = 4</text>\r\n",
       "<text text-anchor=\"middle\" x=\"436\" y=\"-245.8\" font-family=\"Helvetica,sans-Serif\" font-size=\"14.00\">value = [2, 0, 0, 0, 1, 1]</text>\r\n",
       "<text text-anchor=\"middle\" x=\"436\" y=\"-230.8\" font-family=\"Helvetica,sans-Serif\" font-size=\"14.00\">class = 0</text>\r\n",
       "</g>\r\n",
       "<!-- 0&#45;&gt;6 -->\r\n",
       "<g id=\"edge6\" class=\"edge\">\r\n",
       "<title>0&#45;&gt;6</title>\r\n",
       "<path fill=\"none\" stroke=\"black\" d=\"M377.88,-341.91C384.71,-332.92 392.02,-323.32 399.07,-314.05\"/>\r\n",
       "<polygon fill=\"black\" stroke=\"black\" points=\"401.91,-316.1 405.18,-306.02 396.34,-311.86 401.91,-316.1\"/>\r\n",
       "<text text-anchor=\"middle\" x=\"408.54\" y=\"-327.09\" font-family=\"Helvetica,sans-Serif\" font-size=\"14.00\">False</text>\r\n",
       "</g>\r\n",
       "<!-- 2 -->\r\n",
       "<g id=\"node3\" class=\"node\">\r\n",
       "<title>2</title>\r\n",
       "<path fill=\"#ffffff\" stroke=\"black\" d=\"M148,-187C148,-187 12,-187 12,-187 6,-187 0,-181 0,-175 0,-175 0,-116 0,-116 0,-110 6,-104 12,-104 12,-104 148,-104 148,-104 154,-104 160,-110 160,-116 160,-116 160,-175 160,-175 160,-181 154,-187 148,-187\"/>\r\n",
       "<text text-anchor=\"middle\" x=\"80\" y=\"-171.8\" font-family=\"Helvetica,sans-Serif\" font-size=\"14.00\">Ownership &lt;= 4.5</text>\r\n",
       "<text text-anchor=\"middle\" x=\"80\" y=\"-156.8\" font-family=\"Helvetica,sans-Serif\" font-size=\"14.00\">entropy = 1.0</text>\r\n",
       "<text text-anchor=\"middle\" x=\"80\" y=\"-141.8\" font-family=\"Helvetica,sans-Serif\" font-size=\"14.00\">samples = 2</text>\r\n",
       "<text text-anchor=\"middle\" x=\"80\" y=\"-126.8\" font-family=\"Helvetica,sans-Serif\" font-size=\"14.00\">value = [0, 1, 0, 1, 0, 0]</text>\r\n",
       "<text text-anchor=\"middle\" x=\"80\" y=\"-111.8\" font-family=\"Helvetica,sans-Serif\" font-size=\"14.00\">class = 1</text>\r\n",
       "</g>\r\n",
       "<!-- 1&#45;&gt;2 -->\r\n",
       "<g id=\"edge2\" class=\"edge\">\r\n",
       "<title>1&#45;&gt;2</title>\r\n",
       "<path fill=\"none\" stroke=\"black\" d=\"M196.24,-222.91C181.33,-213.11 165.29,-202.56 150.03,-192.53\"/>\r\n",
       "<polygon fill=\"black\" stroke=\"black\" points=\"151.93,-189.59 141.65,-187.02 148.08,-195.44 151.93,-189.59\"/>\r\n",
       "</g>\r\n",
       "<!-- 5 -->\r\n",
       "<g id=\"node6\" class=\"node\">\r\n",
       "<title>5</title>\r\n",
       "<path fill=\"#39e581\" stroke=\"black\" d=\"M326,-179.5C326,-179.5 190,-179.5 190,-179.5 184,-179.5 178,-173.5 178,-167.5 178,-167.5 178,-123.5 178,-123.5 178,-117.5 184,-111.5 190,-111.5 190,-111.5 326,-111.5 326,-111.5 332,-111.5 338,-117.5 338,-123.5 338,-123.5 338,-167.5 338,-167.5 338,-173.5 332,-179.5 326,-179.5\"/>\r\n",
       "<text text-anchor=\"middle\" x=\"258\" y=\"-164.3\" font-family=\"Helvetica,sans-Serif\" font-size=\"14.00\">entropy = 0.0</text>\r\n",
       "<text text-anchor=\"middle\" x=\"258\" y=\"-149.3\" font-family=\"Helvetica,sans-Serif\" font-size=\"14.00\">samples = 2</text>\r\n",
       "<text text-anchor=\"middle\" x=\"258\" y=\"-134.3\" font-family=\"Helvetica,sans-Serif\" font-size=\"14.00\">value = [0, 0, 2, 0, 0, 0]</text>\r\n",
       "<text text-anchor=\"middle\" x=\"258\" y=\"-119.3\" font-family=\"Helvetica,sans-Serif\" font-size=\"14.00\">class = 4</text>\r\n",
       "</g>\r\n",
       "<!-- 1&#45;&gt;5 -->\r\n",
       "<g id=\"edge5\" class=\"edge\">\r\n",
       "<title>1&#45;&gt;5</title>\r\n",
       "<path fill=\"none\" stroke=\"black\" d=\"M258,-222.91C258,-212.2 258,-200.62 258,-189.78\"/>\r\n",
       "<polygon fill=\"black\" stroke=\"black\" points=\"261.5,-189.67 258,-179.67 254.5,-189.67 261.5,-189.67\"/>\r\n",
       "</g>\r\n",
       "<!-- 3 -->\r\n",
       "<g id=\"node4\" class=\"node\">\r\n",
       "<title>3</title>\r\n",
       "<path fill=\"#9de539\" stroke=\"black\" d=\"M148,-68C148,-68 12,-68 12,-68 6,-68 0,-62 0,-56 0,-56 0,-12 0,-12 0,-6 6,0 12,0 12,0 148,0 148,0 154,0 160,-6 160,-12 160,-12 160,-56 160,-56 160,-62 154,-68 148,-68\"/>\r\n",
       "<text text-anchor=\"middle\" x=\"80\" y=\"-52.8\" font-family=\"Helvetica,sans-Serif\" font-size=\"14.00\">entropy = 0.0</text>\r\n",
       "<text text-anchor=\"middle\" x=\"80\" y=\"-37.8\" font-family=\"Helvetica,sans-Serif\" font-size=\"14.00\">samples = 1</text>\r\n",
       "<text text-anchor=\"middle\" x=\"80\" y=\"-22.8\" font-family=\"Helvetica,sans-Serif\" font-size=\"14.00\">value = [0, 1, 0, 0, 0, 0]</text>\r\n",
       "<text text-anchor=\"middle\" x=\"80\" y=\"-7.8\" font-family=\"Helvetica,sans-Serif\" font-size=\"14.00\">class = 1</text>\r\n",
       "</g>\r\n",
       "<!-- 2&#45;&gt;3 -->\r\n",
       "<g id=\"edge3\" class=\"edge\">\r\n",
       "<title>2&#45;&gt;3</title>\r\n",
       "<path fill=\"none\" stroke=\"black\" d=\"M80,-103.73C80,-95.52 80,-86.86 80,-78.56\"/>\r\n",
       "<polygon fill=\"black\" stroke=\"black\" points=\"83.5,-78.3 80,-68.3 76.5,-78.3 83.5,-78.3\"/>\r\n",
       "</g>\r\n",
       "<!-- 4 -->\r\n",
       "<g id=\"node5\" class=\"node\">\r\n",
       "<title>4</title>\r\n",
       "<path fill=\"#399de5\" stroke=\"black\" d=\"M326,-68C326,-68 190,-68 190,-68 184,-68 178,-62 178,-56 178,-56 178,-12 178,-12 178,-6 184,0 190,0 190,0 326,0 326,0 332,0 338,-6 338,-12 338,-12 338,-56 338,-56 338,-62 332,-68 326,-68\"/>\r\n",
       "<text text-anchor=\"middle\" x=\"258\" y=\"-52.8\" font-family=\"Helvetica,sans-Serif\" font-size=\"14.00\">entropy = 0.0</text>\r\n",
       "<text text-anchor=\"middle\" x=\"258\" y=\"-37.8\" font-family=\"Helvetica,sans-Serif\" font-size=\"14.00\">samples = 1</text>\r\n",
       "<text text-anchor=\"middle\" x=\"258\" y=\"-22.8\" font-family=\"Helvetica,sans-Serif\" font-size=\"14.00\">value = [0, 0, 0, 1, 0, 0]</text>\r\n",
       "<text text-anchor=\"middle\" x=\"258\" y=\"-7.8\" font-family=\"Helvetica,sans-Serif\" font-size=\"14.00\">class = 5</text>\r\n",
       "</g>\r\n",
       "<!-- 2&#45;&gt;4 -->\r\n",
       "<g id=\"edge4\" class=\"edge\">\r\n",
       "<title>2&#45;&gt;4</title>\r\n",
       "<path fill=\"none\" stroke=\"black\" d=\"M146.03,-103.88C162.22,-93.92 179.51,-83.29 195.53,-73.43\"/>\r\n",
       "<polygon fill=\"black\" stroke=\"black\" points=\"197.6,-76.26 204.29,-68.04 193.93,-70.3 197.6,-76.26\"/>\r\n",
       "</g>\r\n",
       "<!-- 7 -->\r\n",
       "<g id=\"node8\" class=\"node\">\r\n",
       "<title>7</title>\r\n",
       "<path fill=\"#e58139\" stroke=\"black\" d=\"M504,-179.5C504,-179.5 368,-179.5 368,-179.5 362,-179.5 356,-173.5 356,-167.5 356,-167.5 356,-123.5 356,-123.5 356,-117.5 362,-111.5 368,-111.5 368,-111.5 504,-111.5 504,-111.5 510,-111.5 516,-117.5 516,-123.5 516,-123.5 516,-167.5 516,-167.5 516,-173.5 510,-179.5 504,-179.5\"/>\r\n",
       "<text text-anchor=\"middle\" x=\"436\" y=\"-164.3\" font-family=\"Helvetica,sans-Serif\" font-size=\"14.00\">entropy = 0.0</text>\r\n",
       "<text text-anchor=\"middle\" x=\"436\" y=\"-149.3\" font-family=\"Helvetica,sans-Serif\" font-size=\"14.00\">samples = 2</text>\r\n",
       "<text text-anchor=\"middle\" x=\"436\" y=\"-134.3\" font-family=\"Helvetica,sans-Serif\" font-size=\"14.00\">value = [2, 0, 0, 0, 0, 0]</text>\r\n",
       "<text text-anchor=\"middle\" x=\"436\" y=\"-119.3\" font-family=\"Helvetica,sans-Serif\" font-size=\"14.00\">class = 0</text>\r\n",
       "</g>\r\n",
       "<!-- 6&#45;&gt;7 -->\r\n",
       "<g id=\"edge7\" class=\"edge\">\r\n",
       "<title>6&#45;&gt;7</title>\r\n",
       "<path fill=\"none\" stroke=\"black\" d=\"M436,-222.91C436,-212.2 436,-200.62 436,-189.78\"/>\r\n",
       "<polygon fill=\"black\" stroke=\"black\" points=\"439.5,-189.67 436,-179.67 432.5,-189.67 439.5,-189.67\"/>\r\n",
       "</g>\r\n",
       "<!-- 8 -->\r\n",
       "<g id=\"node9\" class=\"node\">\r\n",
       "<title>8</title>\r\n",
       "<path fill=\"#ffffff\" stroke=\"black\" d=\"M682,-187C682,-187 546,-187 546,-187 540,-187 534,-181 534,-175 534,-175 534,-116 534,-116 534,-110 540,-104 546,-104 546,-104 682,-104 682,-104 688,-104 694,-110 694,-116 694,-116 694,-175 694,-175 694,-181 688,-187 682,-187\"/>\r\n",
       "<text text-anchor=\"middle\" x=\"614\" y=\"-171.8\" font-family=\"Helvetica,sans-Serif\" font-size=\"14.00\">Income &lt;= 1.5</text>\r\n",
       "<text text-anchor=\"middle\" x=\"614\" y=\"-156.8\" font-family=\"Helvetica,sans-Serif\" font-size=\"14.00\">entropy = 1.0</text>\r\n",
       "<text text-anchor=\"middle\" x=\"614\" y=\"-141.8\" font-family=\"Helvetica,sans-Serif\" font-size=\"14.00\">samples = 2</text>\r\n",
       "<text text-anchor=\"middle\" x=\"614\" y=\"-126.8\" font-family=\"Helvetica,sans-Serif\" font-size=\"14.00\">value = [0, 0, 0, 0, 1, 1]</text>\r\n",
       "<text text-anchor=\"middle\" x=\"614\" y=\"-111.8\" font-family=\"Helvetica,sans-Serif\" font-size=\"14.00\">class = 6</text>\r\n",
       "</g>\r\n",
       "<!-- 6&#45;&gt;8 -->\r\n",
       "<g id=\"edge8\" class=\"edge\">\r\n",
       "<title>6&#45;&gt;8</title>\r\n",
       "<path fill=\"none\" stroke=\"black\" d=\"M497.76,-222.91C512.67,-213.11 528.71,-202.56 543.97,-192.53\"/>\r\n",
       "<polygon fill=\"black\" stroke=\"black\" points=\"545.92,-195.44 552.35,-187.02 542.07,-189.59 545.92,-195.44\"/>\r\n",
       "</g>\r\n",
       "<!-- 9 -->\r\n",
       "<g id=\"node10\" class=\"node\">\r\n",
       "<title>9</title>\r\n",
       "<path fill=\"#e5399d\" stroke=\"black\" d=\"M593,-68C593,-68 457,-68 457,-68 451,-68 445,-62 445,-56 445,-56 445,-12 445,-12 445,-6 451,0 457,0 457,0 593,0 593,0 599,0 605,-6 605,-12 605,-12 605,-56 605,-56 605,-62 599,-68 593,-68\"/>\r\n",
       "<text text-anchor=\"middle\" x=\"525\" y=\"-52.8\" font-family=\"Helvetica,sans-Serif\" font-size=\"14.00\">entropy = 0.0</text>\r\n",
       "<text text-anchor=\"middle\" x=\"525\" y=\"-37.8\" font-family=\"Helvetica,sans-Serif\" font-size=\"14.00\">samples = 1</text>\r\n",
       "<text text-anchor=\"middle\" x=\"525\" y=\"-22.8\" font-family=\"Helvetica,sans-Serif\" font-size=\"14.00\">value = [0, 0, 0, 0, 0, 1]</text>\r\n",
       "<text text-anchor=\"middle\" x=\"525\" y=\"-7.8\" font-family=\"Helvetica,sans-Serif\" font-size=\"14.00\">class = 14</text>\r\n",
       "</g>\r\n",
       "<!-- 8&#45;&gt;9 -->\r\n",
       "<g id=\"edge9\" class=\"edge\">\r\n",
       "<title>8&#45;&gt;9</title>\r\n",
       "<path fill=\"none\" stroke=\"black\" d=\"M580.86,-103.73C573.52,-94.7 565.74,-85.12 558.39,-76.08\"/>\r\n",
       "<polygon fill=\"black\" stroke=\"black\" points=\"561.09,-73.85 552.07,-68.3 555.66,-78.27 561.09,-73.85\"/>\r\n",
       "</g>\r\n",
       "<!-- 10 -->\r\n",
       "<g id=\"node11\" class=\"node\">\r\n",
       "<title>10</title>\r\n",
       "<path fill=\"#8139e5\" stroke=\"black\" d=\"M771,-68C771,-68 635,-68 635,-68 629,-68 623,-62 623,-56 623,-56 623,-12 623,-12 623,-6 629,0 635,0 635,0 771,0 771,0 777,0 783,-6 783,-12 783,-12 783,-56 783,-56 783,-62 777,-68 771,-68\"/>\r\n",
       "<text text-anchor=\"middle\" x=\"703\" y=\"-52.8\" font-family=\"Helvetica,sans-Serif\" font-size=\"14.00\">entropy = 0.0</text>\r\n",
       "<text text-anchor=\"middle\" x=\"703\" y=\"-37.8\" font-family=\"Helvetica,sans-Serif\" font-size=\"14.00\">samples = 1</text>\r\n",
       "<text text-anchor=\"middle\" x=\"703\" y=\"-22.8\" font-family=\"Helvetica,sans-Serif\" font-size=\"14.00\">value = [0, 0, 0, 0, 1, 0]</text>\r\n",
       "<text text-anchor=\"middle\" x=\"703\" y=\"-7.8\" font-family=\"Helvetica,sans-Serif\" font-size=\"14.00\">class = 6</text>\r\n",
       "</g>\r\n",
       "<!-- 8&#45;&gt;10 -->\r\n",
       "<g id=\"edge10\" class=\"edge\">\r\n",
       "<title>8&#45;&gt;10</title>\r\n",
       "<path fill=\"none\" stroke=\"black\" d=\"M647.14,-103.73C654.48,-94.7 662.26,-85.12 669.61,-76.08\"/>\r\n",
       "<polygon fill=\"black\" stroke=\"black\" points=\"672.34,-78.27 675.93,-68.3 666.91,-73.85 672.34,-78.27\"/>\r\n",
       "</g>\r\n",
       "</g>\r\n",
       "</svg>\r\n"
      ],
      "text/plain": [
       "<graphviz.files.Source at 0x19c3a88b240>"
      ]
     },
     "execution_count": 21,
     "metadata": {},
     "output_type": "execute_result"
    }
   ],
   "source": [
    "Source.from_file('tree1110.dot')"
   ]
  },
  {
   "cell_type": "code",
   "execution_count": 22,
   "metadata": {},
   "outputs": [],
   "source": [
    "diet_3 = pd.DataFrame({\"17\":[1]})\n",
    "phys_3 = pd.DataFrame({\"17\":[0]})\n",
    "diet_5 = pd.DataFrame({\"8\":[1]})\n",
    "phys_5 = pd.DataFrame({\"8\":[0]})\n",
    "diet_46 = pd.DataFrame({\"6\":[1]})\n",
    "phys_46 = pd.DataFrame({\"6\":[0]})\n",
    "diet_78 = pd.DataFrame({\"4\":[1,1]})\n",
    "phys_78 = pd.DataFrame({\"4\":[0,0]})\n",
    "diet_1110 = pd.DataFrame({1:[1,1]})\n",
    "phys_1110 = pd.DataFrame({1:[0,0]})"
   ]
  },
  {
   "cell_type": "code",
   "execution_count": 23,
   "metadata": {},
   "outputs": [
    {
     "data": {
      "text/plain": [
       "array([0], dtype=int64)"
      ]
     },
     "execution_count": 23,
     "metadata": {},
     "output_type": "execute_result"
    }
   ],
   "source": [
    "tree3.predict(pd.concat([pred_3, diet_3], axis=1))"
   ]
  },
  {
   "cell_type": "code",
   "execution_count": 24,
   "metadata": {},
   "outputs": [
    {
     "data": {
      "text/plain": [
       "array([0], dtype=int64)"
      ]
     },
     "execution_count": 24,
     "metadata": {},
     "output_type": "execute_result"
    }
   ],
   "source": [
    "tree3.predict(pd.concat([pred_3, phys_3], axis=1))"
   ]
  },
  {
   "cell_type": "code",
   "execution_count": 25,
   "metadata": {},
   "outputs": [
    {
     "data": {
      "text/plain": [
       "array([18], dtype=int64)"
      ]
     },
     "execution_count": 25,
     "metadata": {},
     "output_type": "execute_result"
    }
   ],
   "source": [
    "tree5.predict(pd.concat([pred_5, diet_5], axis=1))"
   ]
  },
  {
   "cell_type": "code",
   "execution_count": 26,
   "metadata": {},
   "outputs": [
    {
     "data": {
      "text/plain": [
       "array([18], dtype=int64)"
      ]
     },
     "execution_count": 26,
     "metadata": {},
     "output_type": "execute_result"
    }
   ],
   "source": [
    "tree5.predict(pd.concat([pred_5, phys_5], axis=1))"
   ]
  },
  {
   "cell_type": "code",
   "execution_count": 27,
   "metadata": {},
   "outputs": [
    {
     "data": {
      "text/plain": [
       "array([8], dtype=int64)"
      ]
     },
     "execution_count": 27,
     "metadata": {},
     "output_type": "execute_result"
    }
   ],
   "source": [
    "tree46.predict(pd.concat([pred_46, diet_46], axis=1))"
   ]
  },
  {
   "cell_type": "code",
   "execution_count": 28,
   "metadata": {},
   "outputs": [
    {
     "data": {
      "text/plain": [
       "array([8], dtype=int64)"
      ]
     },
     "execution_count": 28,
     "metadata": {},
     "output_type": "execute_result"
    }
   ],
   "source": [
    "tree46.predict(pd.concat([pred_46, phys_46], axis=1))"
   ]
  },
  {
   "cell_type": "code",
   "execution_count": 29,
   "metadata": {},
   "outputs": [
    {
     "data": {
      "text/plain": [
       "array([18, 18], dtype=int64)"
      ]
     },
     "execution_count": 29,
     "metadata": {},
     "output_type": "execute_result"
    }
   ],
   "source": [
    "tree78.predict(pd.concat([pred_78, diet_78], axis=1))"
   ]
  },
  {
   "cell_type": "code",
   "execution_count": 30,
   "metadata": {},
   "outputs": [
    {
     "data": {
      "text/plain": [
       "array([18, 18], dtype=int64)"
      ]
     },
     "execution_count": 30,
     "metadata": {},
     "output_type": "execute_result"
    }
   ],
   "source": [
    "tree78.predict(pd.concat([pred_78, phys_78], axis=1))"
   ]
  },
  {
   "cell_type": "code",
   "execution_count": 31,
   "metadata": {},
   "outputs": [
    {
     "data": {
      "text/plain": [
       "array([1, 1], dtype=int64)"
      ]
     },
     "execution_count": 31,
     "metadata": {},
     "output_type": "execute_result"
    }
   ],
   "source": [
    "tree1110.predict(pd.concat([pred_11_10, phys_1110], axis=1))"
   ]
  },
  {
   "cell_type": "code",
   "execution_count": 33,
   "metadata": {},
   "outputs": [
    {
     "data": {
      "text/plain": [
       "array([0, 6], dtype=int64)"
      ]
     },
     "execution_count": 33,
     "metadata": {},
     "output_type": "execute_result"
    }
   ],
   "source": [
    "tree1110.predict(pd.concat([pred_11_10, diet_1110], axis=1))"
   ]
  },
  {
   "cell_type": "code",
   "execution_count": null,
   "metadata": {},
   "outputs": [],
   "source": []
  }
 ],
 "metadata": {
  "kernelspec": {
   "display_name": "Python 3",
   "language": "python",
   "name": "python3"
  },
  "language_info": {
   "codemirror_mode": {
    "name": "ipython",
    "version": 3
   },
   "file_extension": ".py",
   "mimetype": "text/x-python",
   "name": "python",
   "nbconvert_exporter": "python",
   "pygments_lexer": "ipython3",
   "version": "3.6.4"
  }
 },
 "nbformat": 4,
 "nbformat_minor": 4
}
