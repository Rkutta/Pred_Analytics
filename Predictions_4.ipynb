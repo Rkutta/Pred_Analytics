{
 "cells": [
  {
   "cell_type": "code",
   "execution_count": 1,
   "metadata": {},
   "outputs": [],
   "source": [
    "import pandas as pd\n",
    "import numpy as np\n",
    "from sklearn.tree import DecisionTreeClassifier\n",
    "from graphviz import Source\n",
    "from sklearn.tree import export_graphviz\n",
    "from sklearn.datasets import load_iris"
   ]
  },
  {
   "cell_type": "code",
   "execution_count": 2,
   "metadata": {},
   "outputs": [],
   "source": [
    "train_3 = pd.read_csv('C:/Users/edher/Desktop/GC_Fall_2020/Data Mining/Pred Analytics/train_3.csv')\n",
    "train_5 = pd.read_csv('C:/Users/edher/Desktop/GC_Fall_2020/Data Mining/Pred Analytics/train_5.csv')\n",
    "train_46 = pd.read_csv('C:/Users/edher/Desktop/GC_Fall_2020/Data Mining/Pred Analytics/train_46.csv')\n",
    "train_78 = pd.read_csv('C:/Users/edher/Desktop/GC_Fall_2020/Data Mining/Pred Analytics/train_78.csv')\n",
    "pred_3 = pd.read_csv('C:/Users/edher/Desktop/GC_Fall_2020/Data Mining/Pred Analytics/pred_3.csv')\n",
    "pred_5 = pd.read_csv('C:/Users/edher/Desktop/GC_Fall_2020/Data Mining/Pred Analytics/pred_5.csv')\n",
    "pred_46 = pd.read_csv('C:/Users/edher/Desktop/GC_Fall_2020/Data Mining/Pred Analytics/pred_46.csv')\n",
    "pred_78 = pd.read_csv('C:/Users/edher/Desktop/GC_Fall_2020/Data Mining/Pred Analytics/pred_78.csv')"
   ]
  },
  {
   "cell_type": "code",
   "execution_count": 3,
   "metadata": {},
   "outputs": [],
   "source": [
    "train_3.dropna(axis=1, inplace=True)\n",
    "train_5.dropna(axis=1, inplace=True)\n",
    "train_46.dropna(axis=1, inplace=True)\n",
    "train_78.dropna(axis=1, inplace=True)\n",
    "pred_3.dropna(axis=1, inplace=True)\n",
    "pred_5.dropna(axis=1, inplace=True)\n",
    "pred_46.dropna(axis=1, inplace=True)\n",
    "pred_78.dropna(axis=1, inplace=True)"
   ]
  },
  {
   "cell_type": "code",
   "execution_count": 4,
   "metadata": {},
   "outputs": [],
   "source": [
    "X3 = train_3.iloc[:,0:-1]\n",
    "X5 = train_5.iloc[:,0:-1]\n",
    "X46 = train_46.iloc[:,0:-1]\n",
    "X78 = train_78.iloc[:,0:-1]\n",
    "Y3 = train_3.iloc[:,-1]\n",
    "Y5 = train_5.iloc[:,-1]\n",
    "Y46 = train_46.iloc[:,-1]\n",
    "Y78 = train_78.iloc[:,-1]"
   ]
  },
  {
   "cell_type": "code",
   "execution_count": 5,
   "metadata": {},
   "outputs": [],
   "source": [
    "tree3 = DecisionTreeClassifier(criterion='entropy', random_state=42)\n",
    "tree5 = DecisionTreeClassifier(criterion='entropy', random_state=42)\n",
    "tree46 = DecisionTreeClassifier(criterion='entropy', random_state=42)\n",
    "tree78 = DecisionTreeClassifier(criterion='entropy', random_state=42)"
   ]
  },
  {
   "cell_type": "code",
   "execution_count": 6,
   "metadata": {},
   "outputs": [
    {
     "data": {
      "text/plain": [
       "DecisionTreeClassifier(criterion='entropy', random_state=42)"
      ]
     },
     "execution_count": 6,
     "metadata": {},
     "output_type": "execute_result"
    }
   ],
   "source": [
    "tree3.fit(X3, Y3)\n",
    "tree5.fit(X5, Y5)\n",
    "tree46.fit(X46, Y46)\n",
    "tree78.fit(X78, Y78)"
   ]
  },
  {
   "cell_type": "code",
   "execution_count": 7,
   "metadata": {},
   "outputs": [
    {
     "data": {
      "text/plain": [
       "0    0\n",
       "1    0\n",
       "Name: Actual ER, dtype: int64"
      ]
     },
     "execution_count": 7,
     "metadata": {},
     "output_type": "execute_result"
    }
   ],
   "source": [
    "Y3"
   ]
  },
  {
   "cell_type": "code",
   "execution_count": 8,
   "metadata": {},
   "outputs": [],
   "source": [
    "export_graphviz(tree3, out_file=\"tree3.dot\",feature_names=train_3.columns[0:-1], class_names=['0'], rounded=True, filled=True)"
   ]
  },
  {
   "cell_type": "code",
   "execution_count": 9,
   "metadata": {},
   "outputs": [
    {
     "data": {
      "text/plain": [
       "0    13\n",
       "1    15\n",
       "2     0\n",
       "3    15\n",
       "Name: ER.6, dtype: int64"
      ]
     },
     "execution_count": 9,
     "metadata": {},
     "output_type": "execute_result"
    }
   ],
   "source": [
    "Y5"
   ]
  },
  {
   "cell_type": "code",
   "execution_count": 10,
   "metadata": {},
   "outputs": [],
   "source": [
    "export_graphviz(tree5, out_file=\"tree5.dot\",feature_names=train_5.columns[0:-1], class_names=['0','13','15'], rounded=True, filled=True)"
   ]
  },
  {
   "cell_type": "code",
   "execution_count": 11,
   "metadata": {},
   "outputs": [
    {
     "data": {
      "text/plain": [
       "0    11\n",
       "1    13\n",
       "2     0\n",
       "3    14\n",
       "4    15\n",
       "Name: ER.4, dtype: int64"
      ]
     },
     "execution_count": 11,
     "metadata": {},
     "output_type": "execute_result"
    }
   ],
   "source": [
    "Y46"
   ]
  },
  {
   "cell_type": "code",
   "execution_count": 12,
   "metadata": {},
   "outputs": [],
   "source": [
    "export_graphviz(tree46, out_file=\"tree46.dot\",feature_names=train_46.columns[0:-1], class_names=['0','11','13','14','15'], rounded=True, filled=True)"
   ]
  },
  {
   "cell_type": "code",
   "execution_count": 13,
   "metadata": {},
   "outputs": [
    {
     "data": {
      "text/plain": [
       "0     6\n",
       "1    15\n",
       "2     0\n",
       "3     7\n",
       "4     8\n",
       "5    13\n",
       "Name: ER.2, dtype: int64"
      ]
     },
     "execution_count": 13,
     "metadata": {},
     "output_type": "execute_result"
    }
   ],
   "source": [
    "Y78"
   ]
  },
  {
   "cell_type": "code",
   "execution_count": 14,
   "metadata": {},
   "outputs": [],
   "source": [
    "export_graphviz(tree78, out_file=\"tree78.dot\",feature_names=train_78.columns[0:-1], class_names=['0','6','7','8','13','15'], rounded=True, filled=True)"
   ]
  },
  {
   "cell_type": "code",
   "execution_count": 15,
   "metadata": {},
   "outputs": [
    {
     "data": {
      "image/svg+xml": [
       "<?xml version=\"1.0\" encoding=\"UTF-8\" standalone=\"no\"?>\r\n",
       "<!DOCTYPE svg PUBLIC \"-//W3C//DTD SVG 1.1//EN\"\r\n",
       " \"http://www.w3.org/Graphics/SVG/1.1/DTD/svg11.dtd\">\r\n",
       "<!-- Generated by graphviz version 2.44.1 (20200629.0846)\r\n",
       " -->\r\n",
       "<!-- Title: Tree Pages: 1 -->\r\n",
       "<svg width=\"108pt\" height=\"61pt\"\r\n",
       " viewBox=\"0.00 0.00 108.00 61.00\" xmlns=\"http://www.w3.org/2000/svg\" xmlns:xlink=\"http://www.w3.org/1999/xlink\">\r\n",
       "<g id=\"graph0\" class=\"graph\" transform=\"scale(1 1) rotate(0) translate(4 57)\">\r\n",
       "<title>Tree</title>\r\n",
       "<polygon fill=\"white\" stroke=\"transparent\" points=\"-4,4 -4,-57 104,-57 104,4 -4,4\"/>\r\n",
       "<!-- 0 -->\r\n",
       "<g id=\"node1\" class=\"node\">\r\n",
       "<title>0</title>\r\n",
       "<path fill=\"#ffffff\" stroke=\"black\" d=\"M88,-53C88,-53 12,-53 12,-53 6,-53 0,-47 0,-41 0,-41 0,-12 0,-12 0,-6 6,0 12,0 12,0 88,0 88,0 94,0 100,-6 100,-12 100,-12 100,-41 100,-41 100,-47 94,-53 88,-53\"/>\r\n",
       "<text text-anchor=\"middle\" x=\"50\" y=\"-37.8\" font-family=\"Helvetica,sans-Serif\" font-size=\"14.00\">entropy = 0.0</text>\r\n",
       "<text text-anchor=\"middle\" x=\"50\" y=\"-22.8\" font-family=\"Helvetica,sans-Serif\" font-size=\"14.00\">samples = 2</text>\r\n",
       "<text text-anchor=\"middle\" x=\"50\" y=\"-7.8\" font-family=\"Helvetica,sans-Serif\" font-size=\"14.00\">value = 2.0</text>\r\n",
       "</g>\r\n",
       "</g>\r\n",
       "</svg>\r\n"
      ],
      "text/plain": [
       "<graphviz.files.Source at 0x28ae4795128>"
      ]
     },
     "execution_count": 15,
     "metadata": {},
     "output_type": "execute_result"
    }
   ],
   "source": [
    "Source.from_file('tree3.dot')"
   ]
  },
  {
   "cell_type": "code",
   "execution_count": 16,
   "metadata": {},
   "outputs": [
    {
     "data": {
      "image/svg+xml": [
       "<?xml version=\"1.0\" encoding=\"UTF-8\" standalone=\"no\"?>\r\n",
       "<!DOCTYPE svg PUBLIC \"-//W3C//DTD SVG 1.1//EN\"\r\n",
       " \"http://www.w3.org/Graphics/SVG/1.1/DTD/svg11.dtd\">\r\n",
       "<!-- Generated by graphviz version 2.44.1 (20200629.0846)\r\n",
       " -->\r\n",
       "<!-- Title: Tree Pages: 1 -->\r\n",
       "<svg width=\"317pt\" height=\"314pt\"\r\n",
       " viewBox=\"0.00 0.00 317.00 314.00\" xmlns=\"http://www.w3.org/2000/svg\" xmlns:xlink=\"http://www.w3.org/1999/xlink\">\r\n",
       "<g id=\"graph0\" class=\"graph\" transform=\"scale(1 1) rotate(0) translate(4 310)\">\r\n",
       "<title>Tree</title>\r\n",
       "<polygon fill=\"white\" stroke=\"transparent\" points=\"-4,4 -4,-310 313,-310 313,4 -4,4\"/>\r\n",
       "<!-- 0 -->\r\n",
       "<g id=\"node1\" class=\"node\">\r\n",
       "<title>0</title>\r\n",
       "<path fill=\"#d5bdf6\" stroke=\"black\" d=\"M231,-306C231,-306 142,-306 142,-306 136,-306 130,-300 130,-294 130,-294 130,-235 130,-235 130,-229 136,-223 142,-223 142,-223 231,-223 231,-223 237,-223 243,-229 243,-235 243,-235 243,-294 243,-294 243,-300 237,-306 231,-306\"/>\r\n",
       "<text text-anchor=\"middle\" x=\"186.5\" y=\"-290.8\" font-family=\"Helvetica,sans-Serif\" font-size=\"14.00\">ER.2 &lt;= 9.5</text>\r\n",
       "<text text-anchor=\"middle\" x=\"186.5\" y=\"-275.8\" font-family=\"Helvetica,sans-Serif\" font-size=\"14.00\">entropy = 1.5</text>\r\n",
       "<text text-anchor=\"middle\" x=\"186.5\" y=\"-260.8\" font-family=\"Helvetica,sans-Serif\" font-size=\"14.00\">samples = 4</text>\r\n",
       "<text text-anchor=\"middle\" x=\"186.5\" y=\"-245.8\" font-family=\"Helvetica,sans-Serif\" font-size=\"14.00\">value = [1, 1, 2]</text>\r\n",
       "<text text-anchor=\"middle\" x=\"186.5\" y=\"-230.8\" font-family=\"Helvetica,sans-Serif\" font-size=\"14.00\">class = 15</text>\r\n",
       "</g>\r\n",
       "<!-- 1 -->\r\n",
       "<g id=\"node2\" class=\"node\">\r\n",
       "<title>1</title>\r\n",
       "<path fill=\"#ffffff\" stroke=\"black\" d=\"M166,-187C166,-187 77,-187 77,-187 71,-187 65,-181 65,-175 65,-175 65,-116 65,-116 65,-110 71,-104 77,-104 77,-104 166,-104 166,-104 172,-104 178,-110 178,-116 178,-116 178,-175 178,-175 178,-181 172,-187 166,-187\"/>\r\n",
       "<text text-anchor=\"middle\" x=\"121.5\" y=\"-171.8\" font-family=\"Helvetica,sans-Serif\" font-size=\"14.00\">1 &lt;= 0.5</text>\r\n",
       "<text text-anchor=\"middle\" x=\"121.5\" y=\"-156.8\" font-family=\"Helvetica,sans-Serif\" font-size=\"14.00\">entropy = 1.0</text>\r\n",
       "<text text-anchor=\"middle\" x=\"121.5\" y=\"-141.8\" font-family=\"Helvetica,sans-Serif\" font-size=\"14.00\">samples = 2</text>\r\n",
       "<text text-anchor=\"middle\" x=\"121.5\" y=\"-126.8\" font-family=\"Helvetica,sans-Serif\" font-size=\"14.00\">value = [1, 1, 0]</text>\r\n",
       "<text text-anchor=\"middle\" x=\"121.5\" y=\"-111.8\" font-family=\"Helvetica,sans-Serif\" font-size=\"14.00\">class = 0</text>\r\n",
       "</g>\r\n",
       "<!-- 0&#45;&gt;1 -->\r\n",
       "<g id=\"edge1\" class=\"edge\">\r\n",
       "<title>0&#45;&gt;1</title>\r\n",
       "<path fill=\"none\" stroke=\"black\" d=\"M163.95,-222.91C159.11,-214.2 153.94,-204.9 148.94,-195.89\"/>\r\n",
       "<polygon fill=\"black\" stroke=\"black\" points=\"151.93,-194.06 144.01,-187.02 145.81,-197.46 151.93,-194.06\"/>\r\n",
       "<text text-anchor=\"middle\" x=\"137.14\" y=\"-207.36\" font-family=\"Helvetica,sans-Serif\" font-size=\"14.00\">True</text>\r\n",
       "</g>\r\n",
       "<!-- 4 -->\r\n",
       "<g id=\"node5\" class=\"node\">\r\n",
       "<title>4</title>\r\n",
       "<path fill=\"#8139e5\" stroke=\"black\" d=\"M297,-179.5C297,-179.5 208,-179.5 208,-179.5 202,-179.5 196,-173.5 196,-167.5 196,-167.5 196,-123.5 196,-123.5 196,-117.5 202,-111.5 208,-111.5 208,-111.5 297,-111.5 297,-111.5 303,-111.5 309,-117.5 309,-123.5 309,-123.5 309,-167.5 309,-167.5 309,-173.5 303,-179.5 297,-179.5\"/>\r\n",
       "<text text-anchor=\"middle\" x=\"252.5\" y=\"-164.3\" font-family=\"Helvetica,sans-Serif\" font-size=\"14.00\">entropy = 0.0</text>\r\n",
       "<text text-anchor=\"middle\" x=\"252.5\" y=\"-149.3\" font-family=\"Helvetica,sans-Serif\" font-size=\"14.00\">samples = 2</text>\r\n",
       "<text text-anchor=\"middle\" x=\"252.5\" y=\"-134.3\" font-family=\"Helvetica,sans-Serif\" font-size=\"14.00\">value = [0, 0, 2]</text>\r\n",
       "<text text-anchor=\"middle\" x=\"252.5\" y=\"-119.3\" font-family=\"Helvetica,sans-Serif\" font-size=\"14.00\">class = 15</text>\r\n",
       "</g>\r\n",
       "<!-- 0&#45;&gt;4 -->\r\n",
       "<g id=\"edge4\" class=\"edge\">\r\n",
       "<title>0&#45;&gt;4</title>\r\n",
       "<path fill=\"none\" stroke=\"black\" d=\"M209.4,-222.91C215.69,-211.76 222.51,-199.66 228.84,-188.44\"/>\r\n",
       "<polygon fill=\"black\" stroke=\"black\" points=\"231.93,-190.1 233.79,-179.67 225.83,-186.66 231.93,-190.1\"/>\r\n",
       "<text text-anchor=\"middle\" x=\"240.5\" y=\"-200.05\" font-family=\"Helvetica,sans-Serif\" font-size=\"14.00\">False</text>\r\n",
       "</g>\r\n",
       "<!-- 2 -->\r\n",
       "<g id=\"node3\" class=\"node\">\r\n",
       "<title>2</title>\r\n",
       "<path fill=\"#39e581\" stroke=\"black\" d=\"M101,-68C101,-68 12,-68 12,-68 6,-68 0,-62 0,-56 0,-56 0,-12 0,-12 0,-6 6,0 12,0 12,0 101,0 101,0 107,0 113,-6 113,-12 113,-12 113,-56 113,-56 113,-62 107,-68 101,-68\"/>\r\n",
       "<text text-anchor=\"middle\" x=\"56.5\" y=\"-52.8\" font-family=\"Helvetica,sans-Serif\" font-size=\"14.00\">entropy = 0.0</text>\r\n",
       "<text text-anchor=\"middle\" x=\"56.5\" y=\"-37.8\" font-family=\"Helvetica,sans-Serif\" font-size=\"14.00\">samples = 1</text>\r\n",
       "<text text-anchor=\"middle\" x=\"56.5\" y=\"-22.8\" font-family=\"Helvetica,sans-Serif\" font-size=\"14.00\">value = [0, 1, 0]</text>\r\n",
       "<text text-anchor=\"middle\" x=\"56.5\" y=\"-7.8\" font-family=\"Helvetica,sans-Serif\" font-size=\"14.00\">class = 13</text>\r\n",
       "</g>\r\n",
       "<!-- 1&#45;&gt;2 -->\r\n",
       "<g id=\"edge2\" class=\"edge\">\r\n",
       "<title>1&#45;&gt;2</title>\r\n",
       "<path fill=\"none\" stroke=\"black\" d=\"M97.3,-103.73C92.1,-94.97 86.6,-85.7 81.38,-76.91\"/>\r\n",
       "<polygon fill=\"black\" stroke=\"black\" points=\"84.38,-75.11 76.27,-68.3 78.36,-78.69 84.38,-75.11\"/>\r\n",
       "</g>\r\n",
       "<!-- 3 -->\r\n",
       "<g id=\"node4\" class=\"node\">\r\n",
       "<title>3</title>\r\n",
       "<path fill=\"#e58139\" stroke=\"black\" d=\"M232,-68C232,-68 143,-68 143,-68 137,-68 131,-62 131,-56 131,-56 131,-12 131,-12 131,-6 137,0 143,0 143,0 232,0 232,0 238,0 244,-6 244,-12 244,-12 244,-56 244,-56 244,-62 238,-68 232,-68\"/>\r\n",
       "<text text-anchor=\"middle\" x=\"187.5\" y=\"-52.8\" font-family=\"Helvetica,sans-Serif\" font-size=\"14.00\">entropy = 0.0</text>\r\n",
       "<text text-anchor=\"middle\" x=\"187.5\" y=\"-37.8\" font-family=\"Helvetica,sans-Serif\" font-size=\"14.00\">samples = 1</text>\r\n",
       "<text text-anchor=\"middle\" x=\"187.5\" y=\"-22.8\" font-family=\"Helvetica,sans-Serif\" font-size=\"14.00\">value = [1, 0, 0]</text>\r\n",
       "<text text-anchor=\"middle\" x=\"187.5\" y=\"-7.8\" font-family=\"Helvetica,sans-Serif\" font-size=\"14.00\">class = 0</text>\r\n",
       "</g>\r\n",
       "<!-- 1&#45;&gt;3 -->\r\n",
       "<g id=\"edge3\" class=\"edge\">\r\n",
       "<title>1&#45;&gt;3</title>\r\n",
       "<path fill=\"none\" stroke=\"black\" d=\"M146.08,-103.73C151.35,-94.97 156.94,-85.7 162.24,-76.91\"/>\r\n",
       "<polygon fill=\"black\" stroke=\"black\" points=\"165.26,-78.67 167.43,-68.3 159.27,-75.06 165.26,-78.67\"/>\r\n",
       "</g>\r\n",
       "</g>\r\n",
       "</svg>\r\n"
      ],
      "text/plain": [
       "<graphviz.files.Source at 0x28ae4795b38>"
      ]
     },
     "execution_count": 16,
     "metadata": {},
     "output_type": "execute_result"
    }
   ],
   "source": [
    "Source.from_file('tree5.dot')"
   ]
  },
  {
   "cell_type": "code",
   "execution_count": 17,
   "metadata": {},
   "outputs": [
    {
     "data": {
      "image/svg+xml": [
       "<?xml version=\"1.0\" encoding=\"UTF-8\" standalone=\"no\"?>\r\n",
       "<!DOCTYPE svg PUBLIC \"-//W3C//DTD SVG 1.1//EN\"\r\n",
       " \"http://www.w3.org/Graphics/SVG/1.1/DTD/svg11.dtd\">\r\n",
       "<!-- Generated by graphviz version 2.44.1 (20200629.0846)\r\n",
       " -->\r\n",
       "<!-- Title: Tree Pages: 1 -->\r\n",
       "<svg width=\"582pt\" height=\"314pt\"\r\n",
       " viewBox=\"0.00 0.00 582.00 314.00\" xmlns=\"http://www.w3.org/2000/svg\" xmlns:xlink=\"http://www.w3.org/1999/xlink\">\r\n",
       "<g id=\"graph0\" class=\"graph\" transform=\"scale(1 1) rotate(0) translate(4 310)\">\r\n",
       "<title>Tree</title>\r\n",
       "<polygon fill=\"white\" stroke=\"transparent\" points=\"-4,4 -4,-310 578,-310 578,4 -4,4\"/>\r\n",
       "<!-- 0 -->\r\n",
       "<g id=\"node1\" class=\"node\">\r\n",
       "<title>0</title>\r\n",
       "<path fill=\"#f8e0ce\" stroke=\"black\" d=\"M341,-306C341,-306 231,-306 231,-306 225,-306 219,-300 219,-294 219,-294 219,-235 219,-235 219,-229 225,-223 231,-223 231,-223 341,-223 341,-223 347,-223 353,-229 353,-235 353,-235 353,-294 353,-294 353,-300 347,-306 341,-306\"/>\r\n",
       "<text text-anchor=\"middle\" x=\"286\" y=\"-290.8\" font-family=\"Helvetica,sans-Serif\" font-size=\"14.00\">Work hours &lt;= 2.0</text>\r\n",
       "<text text-anchor=\"middle\" x=\"286\" y=\"-275.8\" font-family=\"Helvetica,sans-Serif\" font-size=\"14.00\">entropy = 1.922</text>\r\n",
       "<text text-anchor=\"middle\" x=\"286\" y=\"-260.8\" font-family=\"Helvetica,sans-Serif\" font-size=\"14.00\">samples = 5</text>\r\n",
       "<text text-anchor=\"middle\" x=\"286\" y=\"-245.8\" font-family=\"Helvetica,sans-Serif\" font-size=\"14.00\">value = [2, 1, 1, 1]</text>\r\n",
       "<text text-anchor=\"middle\" x=\"286\" y=\"-230.8\" font-family=\"Helvetica,sans-Serif\" font-size=\"14.00\">class = 8</text>\r\n",
       "</g>\r\n",
       "<!-- 1 -->\r\n",
       "<g id=\"node2\" class=\"node\">\r\n",
       "<title>1</title>\r\n",
       "<path fill=\"#ffffff\" stroke=\"black\" d=\"M273.5,-187C273.5,-187 136.5,-187 136.5,-187 130.5,-187 124.5,-181 124.5,-175 124.5,-175 124.5,-116 124.5,-116 124.5,-110 130.5,-104 136.5,-104 136.5,-104 273.5,-104 273.5,-104 279.5,-104 285.5,-110 285.5,-116 285.5,-116 285.5,-175 285.5,-175 285.5,-181 279.5,-187 273.5,-187\"/>\r\n",
       "<text text-anchor=\"middle\" x=\"205\" y=\"-171.8\" font-family=\"Helvetica,sans-Serif\" font-size=\"14.00\">Health condition &lt;= 2.5</text>\r\n",
       "<text text-anchor=\"middle\" x=\"205\" y=\"-156.8\" font-family=\"Helvetica,sans-Serif\" font-size=\"14.00\">entropy = 1.0</text>\r\n",
       "<text text-anchor=\"middle\" x=\"205\" y=\"-141.8\" font-family=\"Helvetica,sans-Serif\" font-size=\"14.00\">samples = 2</text>\r\n",
       "<text text-anchor=\"middle\" x=\"205\" y=\"-126.8\" font-family=\"Helvetica,sans-Serif\" font-size=\"14.00\">value = [0, 1, 1, 0]</text>\r\n",
       "<text text-anchor=\"middle\" x=\"205\" y=\"-111.8\" font-family=\"Helvetica,sans-Serif\" font-size=\"14.00\">class = 12</text>\r\n",
       "</g>\r\n",
       "<!-- 0&#45;&gt;1 -->\r\n",
       "<g id=\"edge1\" class=\"edge\">\r\n",
       "<title>0&#45;&gt;1</title>\r\n",
       "<path fill=\"none\" stroke=\"black\" d=\"M257.9,-222.91C251.74,-214.01 245.16,-204.51 238.81,-195.33\"/>\r\n",
       "<polygon fill=\"black\" stroke=\"black\" points=\"241.62,-193.25 233.05,-187.02 235.87,-197.24 241.62,-193.25\"/>\r\n",
       "<text text-anchor=\"middle\" x=\"228.58\" y=\"-207.92\" font-family=\"Helvetica,sans-Serif\" font-size=\"14.00\">True</text>\r\n",
       "</g>\r\n",
       "<!-- 4 -->\r\n",
       "<g id=\"node5\" class=\"node\">\r\n",
       "<title>4</title>\r\n",
       "<path fill=\"#f2c09c\" stroke=\"black\" d=\"M420,-187C420,-187 316,-187 316,-187 310,-187 304,-181 304,-175 304,-175 304,-116 304,-116 304,-110 310,-104 316,-104 316,-104 420,-104 420,-104 426,-104 432,-110 432,-116 432,-116 432,-175 432,-175 432,-181 426,-187 420,-187\"/>\r\n",
       "<text text-anchor=\"middle\" x=\"368\" y=\"-171.8\" font-family=\"Helvetica,sans-Serif\" font-size=\"14.00\">Attitude &lt;= 2.5</text>\r\n",
       "<text text-anchor=\"middle\" x=\"368\" y=\"-156.8\" font-family=\"Helvetica,sans-Serif\" font-size=\"14.00\">entropy = 0.918</text>\r\n",
       "<text text-anchor=\"middle\" x=\"368\" y=\"-141.8\" font-family=\"Helvetica,sans-Serif\" font-size=\"14.00\">samples = 3</text>\r\n",
       "<text text-anchor=\"middle\" x=\"368\" y=\"-126.8\" font-family=\"Helvetica,sans-Serif\" font-size=\"14.00\">value = [2, 0, 0, 1]</text>\r\n",
       "<text text-anchor=\"middle\" x=\"368\" y=\"-111.8\" font-family=\"Helvetica,sans-Serif\" font-size=\"14.00\">class = 8</text>\r\n",
       "</g>\r\n",
       "<!-- 0&#45;&gt;4 -->\r\n",
       "<g id=\"edge4\" class=\"edge\">\r\n",
       "<title>0&#45;&gt;4</title>\r\n",
       "<path fill=\"none\" stroke=\"black\" d=\"M314.45,-222.91C320.68,-214.01 327.34,-204.51 333.78,-195.33\"/>\r\n",
       "<polygon fill=\"black\" stroke=\"black\" points=\"336.73,-197.22 339.6,-187.02 331,-193.2 336.73,-197.22\"/>\r\n",
       "<text text-anchor=\"middle\" x=\"343.93\" y=\"-207.94\" font-family=\"Helvetica,sans-Serif\" font-size=\"14.00\">False</text>\r\n",
       "</g>\r\n",
       "<!-- 2 -->\r\n",
       "<g id=\"node3\" class=\"node\">\r\n",
       "<title>2</title>\r\n",
       "<path fill=\"#399de5\" stroke=\"black\" d=\"M116,-68C116,-68 12,-68 12,-68 6,-68 0,-62 0,-56 0,-56 0,-12 0,-12 0,-6 6,0 12,0 12,0 116,0 116,0 122,0 128,-6 128,-12 128,-12 128,-56 128,-56 128,-62 122,-68 116,-68\"/>\r\n",
       "<text text-anchor=\"middle\" x=\"64\" y=\"-52.8\" font-family=\"Helvetica,sans-Serif\" font-size=\"14.00\">entropy = 0.0</text>\r\n",
       "<text text-anchor=\"middle\" x=\"64\" y=\"-37.8\" font-family=\"Helvetica,sans-Serif\" font-size=\"14.00\">samples = 1</text>\r\n",
       "<text text-anchor=\"middle\" x=\"64\" y=\"-22.8\" font-family=\"Helvetica,sans-Serif\" font-size=\"14.00\">value = [0, 0, 1, 0]</text>\r\n",
       "<text text-anchor=\"middle\" x=\"64\" y=\"-7.8\" font-family=\"Helvetica,sans-Serif\" font-size=\"14.00\">class = 13</text>\r\n",
       "</g>\r\n",
       "<!-- 1&#45;&gt;2 -->\r\n",
       "<g id=\"edge2\" class=\"edge\">\r\n",
       "<title>1&#45;&gt;2</title>\r\n",
       "<path fill=\"none\" stroke=\"black\" d=\"M152.5,-103.73C140.16,-94.15 127.05,-83.96 114.79,-74.44\"/>\r\n",
       "<polygon fill=\"black\" stroke=\"black\" points=\"116.92,-71.67 106.88,-68.3 112.63,-77.2 116.92,-71.67\"/>\r\n",
       "</g>\r\n",
       "<!-- 3 -->\r\n",
       "<g id=\"node4\" class=\"node\">\r\n",
       "<title>3</title>\r\n",
       "<path fill=\"#47e539\" stroke=\"black\" d=\"M262,-68C262,-68 158,-68 158,-68 152,-68 146,-62 146,-56 146,-56 146,-12 146,-12 146,-6 152,0 158,0 158,0 262,0 262,0 268,0 274,-6 274,-12 274,-12 274,-56 274,-56 274,-62 268,-68 262,-68\"/>\r\n",
       "<text text-anchor=\"middle\" x=\"210\" y=\"-52.8\" font-family=\"Helvetica,sans-Serif\" font-size=\"14.00\">entropy = 0.0</text>\r\n",
       "<text text-anchor=\"middle\" x=\"210\" y=\"-37.8\" font-family=\"Helvetica,sans-Serif\" font-size=\"14.00\">samples = 1</text>\r\n",
       "<text text-anchor=\"middle\" x=\"210\" y=\"-22.8\" font-family=\"Helvetica,sans-Serif\" font-size=\"14.00\">value = [0, 1, 0, 0]</text>\r\n",
       "<text text-anchor=\"middle\" x=\"210\" y=\"-7.8\" font-family=\"Helvetica,sans-Serif\" font-size=\"14.00\">class = 12</text>\r\n",
       "</g>\r\n",
       "<!-- 1&#45;&gt;3 -->\r\n",
       "<g id=\"edge3\" class=\"edge\">\r\n",
       "<title>1&#45;&gt;3</title>\r\n",
       "<path fill=\"none\" stroke=\"black\" d=\"M206.86,-103.73C207.24,-95.52 207.63,-86.86 208.01,-78.56\"/>\r\n",
       "<polygon fill=\"black\" stroke=\"black\" points=\"211.52,-78.45 208.48,-68.3 204.53,-78.13 211.52,-78.45\"/>\r\n",
       "</g>\r\n",
       "<!-- 5 -->\r\n",
       "<g id=\"node6\" class=\"node\">\r\n",
       "<title>5</title>\r\n",
       "<path fill=\"#e58139\" stroke=\"black\" d=\"M416,-68C416,-68 312,-68 312,-68 306,-68 300,-62 300,-56 300,-56 300,-12 300,-12 300,-6 306,0 312,0 312,0 416,0 416,0 422,0 428,-6 428,-12 428,-12 428,-56 428,-56 428,-62 422,-68 416,-68\"/>\r\n",
       "<text text-anchor=\"middle\" x=\"364\" y=\"-52.8\" font-family=\"Helvetica,sans-Serif\" font-size=\"14.00\">entropy = 0.0</text>\r\n",
       "<text text-anchor=\"middle\" x=\"364\" y=\"-37.8\" font-family=\"Helvetica,sans-Serif\" font-size=\"14.00\">samples = 2</text>\r\n",
       "<text text-anchor=\"middle\" x=\"364\" y=\"-22.8\" font-family=\"Helvetica,sans-Serif\" font-size=\"14.00\">value = [2, 0, 0, 0]</text>\r\n",
       "<text text-anchor=\"middle\" x=\"364\" y=\"-7.8\" font-family=\"Helvetica,sans-Serif\" font-size=\"14.00\">class = 8</text>\r\n",
       "</g>\r\n",
       "<!-- 4&#45;&gt;5 -->\r\n",
       "<g id=\"edge5\" class=\"edge\">\r\n",
       "<title>4&#45;&gt;5</title>\r\n",
       "<path fill=\"none\" stroke=\"black\" d=\"M366.51,-103.73C366.21,-95.52 365.89,-86.86 365.59,-78.56\"/>\r\n",
       "<polygon fill=\"black\" stroke=\"black\" points=\"369.08,-78.17 365.22,-68.3 362.08,-78.42 369.08,-78.17\"/>\r\n",
       "</g>\r\n",
       "<!-- 6 -->\r\n",
       "<g id=\"node7\" class=\"node\">\r\n",
       "<title>6</title>\r\n",
       "<path fill=\"#d739e5\" stroke=\"black\" d=\"M562,-68C562,-68 458,-68 458,-68 452,-68 446,-62 446,-56 446,-56 446,-12 446,-12 446,-6 452,0 458,0 458,0 562,0 562,0 568,0 574,-6 574,-12 574,-12 574,-56 574,-56 574,-62 568,-68 562,-68\"/>\r\n",
       "<text text-anchor=\"middle\" x=\"510\" y=\"-52.8\" font-family=\"Helvetica,sans-Serif\" font-size=\"14.00\">entropy = 0.0</text>\r\n",
       "<text text-anchor=\"middle\" x=\"510\" y=\"-37.8\" font-family=\"Helvetica,sans-Serif\" font-size=\"14.00\">samples = 1</text>\r\n",
       "<text text-anchor=\"middle\" x=\"510\" y=\"-22.8\" font-family=\"Helvetica,sans-Serif\" font-size=\"14.00\">value = [0, 0, 0, 1]</text>\r\n",
       "<text text-anchor=\"middle\" x=\"510\" y=\"-7.8\" font-family=\"Helvetica,sans-Serif\" font-size=\"14.00\">class = 14</text>\r\n",
       "</g>\r\n",
       "<!-- 4&#45;&gt;6 -->\r\n",
       "<g id=\"edge6\" class=\"edge\">\r\n",
       "<title>4&#45;&gt;6</title>\r\n",
       "<path fill=\"none\" stroke=\"black\" d=\"M420.88,-103.73C433.29,-94.15 446.51,-83.96 458.85,-74.44\"/>\r\n",
       "<polygon fill=\"black\" stroke=\"black\" points=\"461.04,-77.18 466.82,-68.3 456.76,-71.63 461.04,-77.18\"/>\r\n",
       "</g>\r\n",
       "</g>\r\n",
       "</svg>\r\n"
      ],
      "text/plain": [
       "<graphviz.files.Source at 0x28ae4795470>"
      ]
     },
     "execution_count": 17,
     "metadata": {},
     "output_type": "execute_result"
    }
   ],
   "source": [
    "Source.from_file('tree6.dot')"
   ]
  },
  {
   "cell_type": "code",
   "execution_count": 18,
   "metadata": {},
   "outputs": [
    {
     "data": {
      "image/svg+xml": [
       "<?xml version=\"1.0\" encoding=\"UTF-8\" standalone=\"no\"?>\r\n",
       "<!DOCTYPE svg PUBLIC \"-//W3C//DTD SVG 1.1//EN\"\r\n",
       " \"http://www.w3.org/Graphics/SVG/1.1/DTD/svg11.dtd\">\r\n",
       "<!-- Generated by graphviz version 2.44.1 (20200629.0846)\r\n",
       " -->\r\n",
       "<!-- Title: Tree Pages: 1 -->\r\n",
       "<svg width=\"835pt\" height=\"433pt\"\r\n",
       " viewBox=\"0.00 0.00 835.00 433.00\" xmlns=\"http://www.w3.org/2000/svg\" xmlns:xlink=\"http://www.w3.org/1999/xlink\">\r\n",
       "<g id=\"graph0\" class=\"graph\" transform=\"scale(1 1) rotate(0) translate(4 429)\">\r\n",
       "<title>Tree</title>\r\n",
       "<polygon fill=\"white\" stroke=\"transparent\" points=\"-4,4 -4,-429 831,-429 831,4 -4,4\"/>\r\n",
       "<!-- 0 -->\r\n",
       "<g id=\"node1\" class=\"node\">\r\n",
       "<title>0</title>\r\n",
       "<path fill=\"#ffffff\" stroke=\"black\" d=\"M415,-425C415,-425 279,-425 279,-425 273,-425 267,-419 267,-413 267,-413 267,-354 267,-354 267,-348 273,-342 279,-342 279,-342 415,-342 415,-342 421,-342 427,-348 427,-354 427,-354 427,-413 427,-413 427,-419 421,-425 415,-425\"/>\r\n",
       "<text text-anchor=\"middle\" x=\"347\" y=\"-409.8\" font-family=\"Helvetica,sans-Serif\" font-size=\"14.00\">Intention &lt;= 2.5</text>\r\n",
       "<text text-anchor=\"middle\" x=\"347\" y=\"-394.8\" font-family=\"Helvetica,sans-Serif\" font-size=\"14.00\">entropy = 2.585</text>\r\n",
       "<text text-anchor=\"middle\" x=\"347\" y=\"-379.8\" font-family=\"Helvetica,sans-Serif\" font-size=\"14.00\">samples = 6</text>\r\n",
       "<text text-anchor=\"middle\" x=\"347\" y=\"-364.8\" font-family=\"Helvetica,sans-Serif\" font-size=\"14.00\">value = [1, 1, 1, 1, 1, 1]</text>\r\n",
       "<text text-anchor=\"middle\" x=\"347\" y=\"-349.8\" font-family=\"Helvetica,sans-Serif\" font-size=\"14.00\">class = 0</text>\r\n",
       "</g>\r\n",
       "<!-- 1 -->\r\n",
       "<g id=\"node2\" class=\"node\">\r\n",
       "<title>1</title>\r\n",
       "<path fill=\"#ffffff\" stroke=\"black\" d=\"M326,-306C326,-306 190,-306 190,-306 184,-306 178,-300 178,-294 178,-294 178,-235 178,-235 178,-229 184,-223 190,-223 190,-223 326,-223 326,-223 332,-223 338,-229 338,-235 338,-235 338,-294 338,-294 338,-300 332,-306 326,-306\"/>\r\n",
       "<text text-anchor=\"middle\" x=\"258\" y=\"-290.8\" font-family=\"Helvetica,sans-Serif\" font-size=\"14.00\">Attitude &lt;= 0.5</text>\r\n",
       "<text text-anchor=\"middle\" x=\"258\" y=\"-275.8\" font-family=\"Helvetica,sans-Serif\" font-size=\"14.00\">entropy = 1.585</text>\r\n",
       "<text text-anchor=\"middle\" x=\"258\" y=\"-260.8\" font-family=\"Helvetica,sans-Serif\" font-size=\"14.00\">samples = 3</text>\r\n",
       "<text text-anchor=\"middle\" x=\"258\" y=\"-245.8\" font-family=\"Helvetica,sans-Serif\" font-size=\"14.00\">value = [1, 1, 1, 0, 0, 0]</text>\r\n",
       "<text text-anchor=\"middle\" x=\"258\" y=\"-230.8\" font-family=\"Helvetica,sans-Serif\" font-size=\"14.00\">class = 0</text>\r\n",
       "</g>\r\n",
       "<!-- 0&#45;&gt;1 -->\r\n",
       "<g id=\"edge1\" class=\"edge\">\r\n",
       "<title>0&#45;&gt;1</title>\r\n",
       "<path fill=\"none\" stroke=\"black\" d=\"M316.12,-341.91C309.29,-332.92 301.98,-323.32 294.93,-314.05\"/>\r\n",
       "<polygon fill=\"black\" stroke=\"black\" points=\"297.66,-311.86 288.82,-306.02 292.09,-316.1 297.66,-311.86\"/>\r\n",
       "<text text-anchor=\"middle\" x=\"285.46\" y=\"-327.09\" font-family=\"Helvetica,sans-Serif\" font-size=\"14.00\">True</text>\r\n",
       "</g>\r\n",
       "<!-- 6 -->\r\n",
       "<g id=\"node7\" class=\"node\">\r\n",
       "<title>6</title>\r\n",
       "<path fill=\"#ffffff\" stroke=\"black\" d=\"M504,-306C504,-306 368,-306 368,-306 362,-306 356,-300 356,-294 356,-294 356,-235 356,-235 356,-229 362,-223 368,-223 368,-223 504,-223 504,-223 510,-223 516,-229 516,-235 516,-235 516,-294 516,-294 516,-300 510,-306 504,-306\"/>\r\n",
       "<text text-anchor=\"middle\" x=\"436\" y=\"-290.8\" font-family=\"Helvetica,sans-Serif\" font-size=\"14.00\">Intention &lt;= 3.5</text>\r\n",
       "<text text-anchor=\"middle\" x=\"436\" y=\"-275.8\" font-family=\"Helvetica,sans-Serif\" font-size=\"14.00\">entropy = 1.585</text>\r\n",
       "<text text-anchor=\"middle\" x=\"436\" y=\"-260.8\" font-family=\"Helvetica,sans-Serif\" font-size=\"14.00\">samples = 3</text>\r\n",
       "<text text-anchor=\"middle\" x=\"436\" y=\"-245.8\" font-family=\"Helvetica,sans-Serif\" font-size=\"14.00\">value = [0, 0, 0, 1, 1, 1]</text>\r\n",
       "<text text-anchor=\"middle\" x=\"436\" y=\"-230.8\" font-family=\"Helvetica,sans-Serif\" font-size=\"14.00\">class = 8</text>\r\n",
       "</g>\r\n",
       "<!-- 0&#45;&gt;6 -->\r\n",
       "<g id=\"edge6\" class=\"edge\">\r\n",
       "<title>0&#45;&gt;6</title>\r\n",
       "<path fill=\"none\" stroke=\"black\" d=\"M377.88,-341.91C384.71,-332.92 392.02,-323.32 399.07,-314.05\"/>\r\n",
       "<polygon fill=\"black\" stroke=\"black\" points=\"401.91,-316.1 405.18,-306.02 396.34,-311.86 401.91,-316.1\"/>\r\n",
       "<text text-anchor=\"middle\" x=\"408.54\" y=\"-327.09\" font-family=\"Helvetica,sans-Serif\" font-size=\"14.00\">False</text>\r\n",
       "</g>\r\n",
       "<!-- 2 -->\r\n",
       "<g id=\"node3\" class=\"node\">\r\n",
       "<title>2</title>\r\n",
       "<path fill=\"#9de539\" stroke=\"black\" d=\"M148,-179.5C148,-179.5 12,-179.5 12,-179.5 6,-179.5 0,-173.5 0,-167.5 0,-167.5 0,-123.5 0,-123.5 0,-117.5 6,-111.5 12,-111.5 12,-111.5 148,-111.5 148,-111.5 154,-111.5 160,-117.5 160,-123.5 160,-123.5 160,-167.5 160,-167.5 160,-173.5 154,-179.5 148,-179.5\"/>\r\n",
       "<text text-anchor=\"middle\" x=\"80\" y=\"-164.3\" font-family=\"Helvetica,sans-Serif\" font-size=\"14.00\">entropy = 0.0</text>\r\n",
       "<text text-anchor=\"middle\" x=\"80\" y=\"-149.3\" font-family=\"Helvetica,sans-Serif\" font-size=\"14.00\">samples = 1</text>\r\n",
       "<text text-anchor=\"middle\" x=\"80\" y=\"-134.3\" font-family=\"Helvetica,sans-Serif\" font-size=\"14.00\">value = [0, 1, 0, 0, 0, 0]</text>\r\n",
       "<text text-anchor=\"middle\" x=\"80\" y=\"-119.3\" font-family=\"Helvetica,sans-Serif\" font-size=\"14.00\">class = 6</text>\r\n",
       "</g>\r\n",
       "<!-- 1&#45;&gt;2 -->\r\n",
       "<g id=\"edge2\" class=\"edge\">\r\n",
       "<title>1&#45;&gt;2</title>\r\n",
       "<path fill=\"none\" stroke=\"black\" d=\"M196.24,-222.91C177.78,-210.77 157.58,-197.49 139.28,-185.46\"/>\r\n",
       "<polygon fill=\"black\" stroke=\"black\" points=\"140.74,-182.23 130.46,-179.67 136.89,-188.08 140.74,-182.23\"/>\r\n",
       "</g>\r\n",
       "<!-- 3 -->\r\n",
       "<g id=\"node4\" class=\"node\">\r\n",
       "<title>3</title>\r\n",
       "<path fill=\"#ffffff\" stroke=\"black\" d=\"M326,-187C326,-187 190,-187 190,-187 184,-187 178,-181 178,-175 178,-175 178,-116 178,-116 178,-110 184,-104 190,-104 190,-104 326,-104 326,-104 332,-104 338,-110 338,-116 338,-116 338,-175 338,-175 338,-181 332,-187 326,-187\"/>\r\n",
       "<text text-anchor=\"middle\" x=\"258\" y=\"-171.8\" font-family=\"Helvetica,sans-Serif\" font-size=\"14.00\">ER.1 &lt;= 8.5</text>\r\n",
       "<text text-anchor=\"middle\" x=\"258\" y=\"-156.8\" font-family=\"Helvetica,sans-Serif\" font-size=\"14.00\">entropy = 1.0</text>\r\n",
       "<text text-anchor=\"middle\" x=\"258\" y=\"-141.8\" font-family=\"Helvetica,sans-Serif\" font-size=\"14.00\">samples = 2</text>\r\n",
       "<text text-anchor=\"middle\" x=\"258\" y=\"-126.8\" font-family=\"Helvetica,sans-Serif\" font-size=\"14.00\">value = [1, 0, 1, 0, 0, 0]</text>\r\n",
       "<text text-anchor=\"middle\" x=\"258\" y=\"-111.8\" font-family=\"Helvetica,sans-Serif\" font-size=\"14.00\">class = 0</text>\r\n",
       "</g>\r\n",
       "<!-- 1&#45;&gt;3 -->\r\n",
       "<g id=\"edge3\" class=\"edge\">\r\n",
       "<title>1&#45;&gt;3</title>\r\n",
       "<path fill=\"none\" stroke=\"black\" d=\"M258,-222.91C258,-214.65 258,-205.86 258,-197.3\"/>\r\n",
       "<polygon fill=\"black\" stroke=\"black\" points=\"261.5,-197.02 258,-187.02 254.5,-197.02 261.5,-197.02\"/>\r\n",
       "</g>\r\n",
       "<!-- 4 -->\r\n",
       "<g id=\"node5\" class=\"node\">\r\n",
       "<title>4</title>\r\n",
       "<path fill=\"#e58139\" stroke=\"black\" d=\"M237,-68C237,-68 101,-68 101,-68 95,-68 89,-62 89,-56 89,-56 89,-12 89,-12 89,-6 95,0 101,0 101,0 237,0 237,0 243,0 249,-6 249,-12 249,-12 249,-56 249,-56 249,-62 243,-68 237,-68\"/>\r\n",
       "<text text-anchor=\"middle\" x=\"169\" y=\"-52.8\" font-family=\"Helvetica,sans-Serif\" font-size=\"14.00\">entropy = 0.0</text>\r\n",
       "<text text-anchor=\"middle\" x=\"169\" y=\"-37.8\" font-family=\"Helvetica,sans-Serif\" font-size=\"14.00\">samples = 1</text>\r\n",
       "<text text-anchor=\"middle\" x=\"169\" y=\"-22.8\" font-family=\"Helvetica,sans-Serif\" font-size=\"14.00\">value = [1, 0, 0, 0, 0, 0]</text>\r\n",
       "<text text-anchor=\"middle\" x=\"169\" y=\"-7.8\" font-family=\"Helvetica,sans-Serif\" font-size=\"14.00\">class = 0</text>\r\n",
       "</g>\r\n",
       "<!-- 3&#45;&gt;4 -->\r\n",
       "<g id=\"edge4\" class=\"edge\">\r\n",
       "<title>3&#45;&gt;4</title>\r\n",
       "<path fill=\"none\" stroke=\"black\" d=\"M224.86,-103.73C217.52,-94.7 209.74,-85.12 202.39,-76.08\"/>\r\n",
       "<polygon fill=\"black\" stroke=\"black\" points=\"205.09,-73.85 196.07,-68.3 199.66,-78.27 205.09,-73.85\"/>\r\n",
       "</g>\r\n",
       "<!-- 5 -->\r\n",
       "<g id=\"node6\" class=\"node\">\r\n",
       "<title>5</title>\r\n",
       "<path fill=\"#39e581\" stroke=\"black\" d=\"M415,-68C415,-68 279,-68 279,-68 273,-68 267,-62 267,-56 267,-56 267,-12 267,-12 267,-6 273,0 279,0 279,0 415,0 415,0 421,0 427,-6 427,-12 427,-12 427,-56 427,-56 427,-62 421,-68 415,-68\"/>\r\n",
       "<text text-anchor=\"middle\" x=\"347\" y=\"-52.8\" font-family=\"Helvetica,sans-Serif\" font-size=\"14.00\">entropy = 0.0</text>\r\n",
       "<text text-anchor=\"middle\" x=\"347\" y=\"-37.8\" font-family=\"Helvetica,sans-Serif\" font-size=\"14.00\">samples = 1</text>\r\n",
       "<text text-anchor=\"middle\" x=\"347\" y=\"-22.8\" font-family=\"Helvetica,sans-Serif\" font-size=\"14.00\">value = [0, 0, 1, 0, 0, 0]</text>\r\n",
       "<text text-anchor=\"middle\" x=\"347\" y=\"-7.8\" font-family=\"Helvetica,sans-Serif\" font-size=\"14.00\">class = 7</text>\r\n",
       "</g>\r\n",
       "<!-- 3&#45;&gt;5 -->\r\n",
       "<g id=\"edge5\" class=\"edge\">\r\n",
       "<title>3&#45;&gt;5</title>\r\n",
       "<path fill=\"none\" stroke=\"black\" d=\"M291.14,-103.73C298.48,-94.7 306.26,-85.12 313.61,-76.08\"/>\r\n",
       "<polygon fill=\"black\" stroke=\"black\" points=\"316.34,-78.27 319.93,-68.3 310.91,-73.85 316.34,-78.27\"/>\r\n",
       "</g>\r\n",
       "<!-- 7 -->\r\n",
       "<g id=\"node8\" class=\"node\">\r\n",
       "<title>7</title>\r\n",
       "<path fill=\"#e5399d\" stroke=\"black\" d=\"M504,-179.5C504,-179.5 368,-179.5 368,-179.5 362,-179.5 356,-173.5 356,-167.5 356,-167.5 356,-123.5 356,-123.5 356,-117.5 362,-111.5 368,-111.5 368,-111.5 504,-111.5 504,-111.5 510,-111.5 516,-117.5 516,-123.5 516,-123.5 516,-167.5 516,-167.5 516,-173.5 510,-179.5 504,-179.5\"/>\r\n",
       "<text text-anchor=\"middle\" x=\"436\" y=\"-164.3\" font-family=\"Helvetica,sans-Serif\" font-size=\"14.00\">entropy = 0.0</text>\r\n",
       "<text text-anchor=\"middle\" x=\"436\" y=\"-149.3\" font-family=\"Helvetica,sans-Serif\" font-size=\"14.00\">samples = 1</text>\r\n",
       "<text text-anchor=\"middle\" x=\"436\" y=\"-134.3\" font-family=\"Helvetica,sans-Serif\" font-size=\"14.00\">value = [0, 0, 0, 0, 0, 1]</text>\r\n",
       "<text text-anchor=\"middle\" x=\"436\" y=\"-119.3\" font-family=\"Helvetica,sans-Serif\" font-size=\"14.00\">class = 15</text>\r\n",
       "</g>\r\n",
       "<!-- 6&#45;&gt;7 -->\r\n",
       "<g id=\"edge7\" class=\"edge\">\r\n",
       "<title>6&#45;&gt;7</title>\r\n",
       "<path fill=\"none\" stroke=\"black\" d=\"M436,-222.91C436,-212.2 436,-200.62 436,-189.78\"/>\r\n",
       "<polygon fill=\"black\" stroke=\"black\" points=\"439.5,-189.67 436,-179.67 432.5,-189.67 439.5,-189.67\"/>\r\n",
       "</g>\r\n",
       "<!-- 8 -->\r\n",
       "<g id=\"node9\" class=\"node\">\r\n",
       "<title>8</title>\r\n",
       "<path fill=\"#ffffff\" stroke=\"black\" d=\"M682,-187C682,-187 546,-187 546,-187 540,-187 534,-181 534,-175 534,-175 534,-116 534,-116 534,-110 540,-104 546,-104 546,-104 682,-104 682,-104 688,-104 694,-110 694,-116 694,-116 694,-175 694,-175 694,-181 688,-187 682,-187\"/>\r\n",
       "<text text-anchor=\"middle\" x=\"614\" y=\"-171.8\" font-family=\"Helvetica,sans-Serif\" font-size=\"14.00\">Age &lt;= 58.0</text>\r\n",
       "<text text-anchor=\"middle\" x=\"614\" y=\"-156.8\" font-family=\"Helvetica,sans-Serif\" font-size=\"14.00\">entropy = 1.0</text>\r\n",
       "<text text-anchor=\"middle\" x=\"614\" y=\"-141.8\" font-family=\"Helvetica,sans-Serif\" font-size=\"14.00\">samples = 2</text>\r\n",
       "<text text-anchor=\"middle\" x=\"614\" y=\"-126.8\" font-family=\"Helvetica,sans-Serif\" font-size=\"14.00\">value = [0, 0, 0, 1, 1, 0]</text>\r\n",
       "<text text-anchor=\"middle\" x=\"614\" y=\"-111.8\" font-family=\"Helvetica,sans-Serif\" font-size=\"14.00\">class = 8</text>\r\n",
       "</g>\r\n",
       "<!-- 6&#45;&gt;8 -->\r\n",
       "<g id=\"edge8\" class=\"edge\">\r\n",
       "<title>6&#45;&gt;8</title>\r\n",
       "<path fill=\"none\" stroke=\"black\" d=\"M497.76,-222.91C512.67,-213.11 528.71,-202.56 543.97,-192.53\"/>\r\n",
       "<polygon fill=\"black\" stroke=\"black\" points=\"545.92,-195.44 552.35,-187.02 542.07,-189.59 545.92,-195.44\"/>\r\n",
       "</g>\r\n",
       "<!-- 9 -->\r\n",
       "<g id=\"node10\" class=\"node\">\r\n",
       "<title>9</title>\r\n",
       "<path fill=\"#8139e5\" stroke=\"black\" d=\"M637,-68C637,-68 501,-68 501,-68 495,-68 489,-62 489,-56 489,-56 489,-12 489,-12 489,-6 495,0 501,0 501,0 637,0 637,0 643,0 649,-6 649,-12 649,-12 649,-56 649,-56 649,-62 643,-68 637,-68\"/>\r\n",
       "<text text-anchor=\"middle\" x=\"569\" y=\"-52.8\" font-family=\"Helvetica,sans-Serif\" font-size=\"14.00\">entropy = 0.0</text>\r\n",
       "<text text-anchor=\"middle\" x=\"569\" y=\"-37.8\" font-family=\"Helvetica,sans-Serif\" font-size=\"14.00\">samples = 1</text>\r\n",
       "<text text-anchor=\"middle\" x=\"569\" y=\"-22.8\" font-family=\"Helvetica,sans-Serif\" font-size=\"14.00\">value = [0, 0, 0, 0, 1, 0]</text>\r\n",
       "<text text-anchor=\"middle\" x=\"569\" y=\"-7.8\" font-family=\"Helvetica,sans-Serif\" font-size=\"14.00\">class = 13</text>\r\n",
       "</g>\r\n",
       "<!-- 8&#45;&gt;9 -->\r\n",
       "<g id=\"edge9\" class=\"edge\">\r\n",
       "<title>8&#45;&gt;9</title>\r\n",
       "<path fill=\"none\" stroke=\"black\" d=\"M597.24,-103.73C593.76,-95.24 590.07,-86.28 586.56,-77.73\"/>\r\n",
       "<polygon fill=\"black\" stroke=\"black\" points=\"589.72,-76.22 582.68,-68.3 583.25,-78.88 589.72,-76.22\"/>\r\n",
       "</g>\r\n",
       "<!-- 10 -->\r\n",
       "<g id=\"node11\" class=\"node\">\r\n",
       "<title>10</title>\r\n",
       "<path fill=\"#399de5\" stroke=\"black\" d=\"M815,-68C815,-68 679,-68 679,-68 673,-68 667,-62 667,-56 667,-56 667,-12 667,-12 667,-6 673,0 679,0 679,0 815,0 815,0 821,0 827,-6 827,-12 827,-12 827,-56 827,-56 827,-62 821,-68 815,-68\"/>\r\n",
       "<text text-anchor=\"middle\" x=\"747\" y=\"-52.8\" font-family=\"Helvetica,sans-Serif\" font-size=\"14.00\">entropy = 0.0</text>\r\n",
       "<text text-anchor=\"middle\" x=\"747\" y=\"-37.8\" font-family=\"Helvetica,sans-Serif\" font-size=\"14.00\">samples = 1</text>\r\n",
       "<text text-anchor=\"middle\" x=\"747\" y=\"-22.8\" font-family=\"Helvetica,sans-Serif\" font-size=\"14.00\">value = [0, 0, 0, 1, 0, 0]</text>\r\n",
       "<text text-anchor=\"middle\" x=\"747\" y=\"-7.8\" font-family=\"Helvetica,sans-Serif\" font-size=\"14.00\">class = 8</text>\r\n",
       "</g>\r\n",
       "<!-- 8&#45;&gt;10 -->\r\n",
       "<g id=\"edge10\" class=\"edge\">\r\n",
       "<title>8&#45;&gt;10</title>\r\n",
       "<path fill=\"none\" stroke=\"black\" d=\"M663.52,-103.73C675.05,-94.24 687.3,-84.16 698.76,-74.72\"/>\r\n",
       "<polygon fill=\"black\" stroke=\"black\" points=\"701.06,-77.36 706.55,-68.3 696.61,-71.95 701.06,-77.36\"/>\r\n",
       "</g>\r\n",
       "</g>\r\n",
       "</svg>\r\n"
      ],
      "text/plain": [
       "<graphviz.files.Source at 0x28ae4795e10>"
      ]
     },
     "execution_count": 18,
     "metadata": {},
     "output_type": "execute_result"
    }
   ],
   "source": [
    "Source.from_file('tree78.dot')"
   ]
  },
  {
   "cell_type": "code",
   "execution_count": 19,
   "metadata": {},
   "outputs": [],
   "source": [
    "diet_3 = pd.DataFrame({\"16\":[1]})\n",
    "phys_3 = pd.DataFrame({\"16\":[0]})\n",
    "diet_5 = pd.DataFrame({\"7\":[1]})\n",
    "phys_5 = pd.DataFrame({\"7\":[0]})\n",
    "diet_46 = pd.DataFrame({\"5\":[1,1]})\n",
    "phys_46 = pd.DataFrame({\"5\":[0,0]})\n",
    "diet_78 = pd.DataFrame({\"3\":[1,1]})\n",
    "phys_78 = pd.DataFrame({\"3\":[0,0]})"
   ]
  },
  {
   "cell_type": "code",
   "execution_count": 20,
   "metadata": {},
   "outputs": [
    {
     "data": {
      "text/plain": [
       "array([0], dtype=int64)"
      ]
     },
     "execution_count": 20,
     "metadata": {},
     "output_type": "execute_result"
    }
   ],
   "source": [
    "tree3.predict(pd.concat([pred_3, diet_3], axis=1))"
   ]
  },
  {
   "cell_type": "code",
   "execution_count": 21,
   "metadata": {},
   "outputs": [
    {
     "data": {
      "text/plain": [
       "array([0], dtype=int64)"
      ]
     },
     "execution_count": 21,
     "metadata": {},
     "output_type": "execute_result"
    }
   ],
   "source": [
    "tree3.predict(pd.concat([pred_3, phys_3], axis=1))"
   ]
  },
  {
   "cell_type": "code",
   "execution_count": 22,
   "metadata": {},
   "outputs": [
    {
     "data": {
      "text/plain": [
       "array([0], dtype=int64)"
      ]
     },
     "execution_count": 22,
     "metadata": {},
     "output_type": "execute_result"
    }
   ],
   "source": [
    "tree5.predict(pd.concat([pred_5, diet_5], axis=1))"
   ]
  },
  {
   "cell_type": "code",
   "execution_count": 23,
   "metadata": {},
   "outputs": [
    {
     "data": {
      "text/plain": [
       "array([0], dtype=int64)"
      ]
     },
     "execution_count": 23,
     "metadata": {},
     "output_type": "execute_result"
    }
   ],
   "source": [
    "tree5.predict(pd.concat([pred_5, phys_5], axis=1))"
   ]
  },
  {
   "cell_type": "code",
   "execution_count": 24,
   "metadata": {},
   "outputs": [
    {
     "data": {
      "text/plain": [
       "array([11, 14], dtype=int64)"
      ]
     },
     "execution_count": 24,
     "metadata": {},
     "output_type": "execute_result"
    }
   ],
   "source": [
    "tree46.predict(pd.concat([pred_46, diet_46], axis=1))"
   ]
  },
  {
   "cell_type": "code",
   "execution_count": 25,
   "metadata": {},
   "outputs": [
    {
     "data": {
      "text/plain": [
       "array([11, 14], dtype=int64)"
      ]
     },
     "execution_count": 25,
     "metadata": {},
     "output_type": "execute_result"
    }
   ],
   "source": [
    "tree46.predict(pd.concat([pred_46, phys_46], axis=1))"
   ]
  },
  {
   "cell_type": "code",
   "execution_count": 26,
   "metadata": {},
   "outputs": [
    {
     "data": {
      "text/plain": [
       "array([13,  8], dtype=int64)"
      ]
     },
     "execution_count": 26,
     "metadata": {},
     "output_type": "execute_result"
    }
   ],
   "source": [
    "tree78.predict(pd.concat([pred_78, diet_78], axis=1))"
   ]
  },
  {
   "cell_type": "code",
   "execution_count": 27,
   "metadata": {},
   "outputs": [
    {
     "data": {
      "text/plain": [
       "array([13,  8], dtype=int64)"
      ]
     },
     "execution_count": 27,
     "metadata": {},
     "output_type": "execute_result"
    }
   ],
   "source": [
    "tree78.predict(pd.concat([pred_78, phys_78], axis=1))"
   ]
  },
  {
   "cell_type": "code",
   "execution_count": null,
   "metadata": {},
   "outputs": [],
   "source": []
  }
 ],
 "metadata": {
  "kernelspec": {
   "display_name": "Python 3",
   "language": "python",
   "name": "python3"
  },
  "language_info": {
   "codemirror_mode": {
    "name": "ipython",
    "version": 3
   },
   "file_extension": ".py",
   "mimetype": "text/x-python",
   "name": "python",
   "nbconvert_exporter": "python",
   "pygments_lexer": "ipython3",
   "version": "3.6.4"
  }
 },
 "nbformat": 4,
 "nbformat_minor": 4
}
